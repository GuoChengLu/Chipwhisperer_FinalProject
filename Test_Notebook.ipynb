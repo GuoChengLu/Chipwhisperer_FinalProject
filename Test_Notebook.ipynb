{
 "cells": [
  {
   "cell_type": "code",
   "execution_count": 6,
   "metadata": {},
   "outputs": [
    {
     "name": "stdout",
     "output_type": "stream",
     "text": [
      "C:\\Users\\GC_Lu\\CHIPWH~1\\cw\\home\\portable\\chipwhisperer\\tutorials\\img\\aes_operations.png\n",
      "C:\\Users\\GC_Lu\\CHIPWH~1\\cw\\home\\portable\\chipwhisperer\\tutorials\\img\\clock_glitches.png\n",
      "C:\\Users\\GC_Lu\\CHIPWH~1\\cw\\home\\portable\\chipwhisperer\\tutorials\\img\\A9_LPC1114_CHANGES.jpg\n",
      "C:\\Users\\GC_Lu\\CHIPWH~1\\cw\\home\\portable\\chipwhisperer\\tutorials\\img\\A9_LPC_CWLITE_Conn.jpg\n",
      "C:\\Users\\GC_Lu\\CHIPWH~1\\cw\\home\\portable\\chipwhisperer\\tutorials\\img\\4traces_aes_clkx1.png\n",
      "C:\\Users\\GC_Lu\\CHIPWH~1\\cw\\home\\portable\\chipwhisperer\\tutorials\\img\\4traces_aes_clkx1_offset60000.png\n",
      "C:\\Users\\GC_Lu\\CHIPWH~1\\cw\\home\\portable\\chipwhisperer\\tutorials\\img\\4traces_aes_clkx1_presample5000.png\n",
      "C:\\Users\\GC_Lu\\CHIPWH~1\\cw\\home\\portable\\chipwhisperer\\tutorials\\img\\4traces_aes_clkx1_presample5000_zoom.png\n",
      "C:\\Users\\GC_Lu\\CHIPWH~1\\cw\\home\\portable\\chipwhisperer\\tutorials\\img\\4traces_aes_clkx4.png\n",
      "C:\\Users\\GC_Lu\\CHIPWH~1\\cw\\home\\portable\\chipwhisperer\\tutorials\\img\\4traces_aes_poortrigger.png\n",
      "C:\\Users\\GC_Lu\\CHIPWH~1\\cw\\home\\portable\\chipwhisperer\\tutorials\\img\\aesinput.png\n",
      "C:\\Users\\GC_Lu\\CHIPWH~1\\cw\\home\\portable\\chipwhisperer\\tutorials\\img\\dpa-doublepeak.png\n",
      "C:\\Users\\GC_Lu\\CHIPWH~1\\cw\\home\\portable\\chipwhisperer\\tutorials\\img\\dpa_peakexample.png\n",
      "C:\\Users\\GC_Lu\\CHIPWH~1\\cw\\home\\portable\\chipwhisperer\\tutorials\\img\\shunt_chipwhisperer.png\n",
      "C:\\Users\\GC_Lu\\CHIPWH~1\\cw\\home\\portable\\chipwhisperer\\tutorials\\img\\spa_password_diffexample.png\n",
      "C:\\Users\\GC_Lu\\CHIPWH~1\\cw\\home\\portable\\chipwhisperer\\tutorials\\img\\spa_password_h_vs_0_overview.png\n",
      "C:\\Users\\GC_Lu\\CHIPWH~1\\cw\\home\\portable\\chipwhisperer\\tutorials\\img\\spa_password_h_vs_0_zoomed.png\n",
      "C:\\Users\\GC_Lu\\CHIPWH~1\\cw\\home\\portable\\chipwhisperer\\tutorials\\img\\spa_password_list_char1.png\n",
      "C:\\Users\\GC_Lu\\CHIPWH~1\\cw\\home\\portable\\chipwhisperer\\tutorials\\img\\traces_wrong.png\n",
      "C:\\Users\\GC_Lu\\CHIPWH~1\\cw\\home\\portable\\chipwhisperer\\tutorials\\img\\uart_triggers.png\n",
      "C:\\Users\\GC_Lu\\CHIPWH~1\\cw\\home\\portable\\chipwhisperer\\tutorials\\img\\GoodVBadRef.png\n",
      "C:\\Users\\GC_Lu\\CHIPWH~1\\cw\\home\\portable\\chipwhisperer\\tutorials\\img\\Resync_traces_ref.png\n",
      "C:\\Users\\GC_Lu\\CHIPWH~1\\cw\\home\\portable\\chipwhisperer\\tutorials\\img\\stm_run1.png\n",
      "\n",
      "Testing: C:\\Users\\GC_Lu\\CHIPWH~1\\cw\\home\\portable\\chipwhisperer\\jupyter\\courses\\sca101\\SOLN_Lab 3_1 - Large Hamming Weight Swings.ipynb:...\n",
      "with {'SCOPETYPE': 'OPENADC', 'PLATFORM': 'CWLITEXMEGA', 'CRYPTO_TARGET': 'TINYAES128C', 'VERSION': 'HARDWARE', 'SS_VER': 'SS_VER_2_0'}.\n",
      "No serial number specified... only bad if more than one device attached.\n",
      "Inserting allowable_exceptions\n",
      "Inserting SS_VER\n",
      "PASSED\n"
     ]
    },
    {
     "ename": "TemplateNotFound",
     "evalue": "rst_extended.tpl",
     "output_type": "error",
     "traceback": [
      "\u001b[1;31m---------------------------------------------------------------------------\u001b[0m",
      "\u001b[1;31mTemplateNotFound\u001b[0m                          Traceback (most recent call last)",
      "\u001b[1;32m<ipython-input-6-738f34eda504>\u001b[0m in \u001b[0;36m<module>\u001b[1;34m\u001b[0m\n\u001b[0;32m     34\u001b[0m \u001b[0mversion\u001b[0m \u001b[1;33m=\u001b[0m \u001b[1;34m'HARDWARE'\u001b[0m\u001b[1;33m\u001b[0m\u001b[1;33m\u001b[0m\u001b[0m\n\u001b[0;32m     35\u001b[0m \u001b[1;33m\u001b[0m\u001b[0m\n\u001b[1;32m---> 36\u001b[1;33m \u001b[0mtest_notebook\u001b[0m\u001b[1;33m(\u001b[0m\u001b[1;34m'courses/sca101/SOLN_Lab 3_1 - Large Hamming Weight Swings.ipynb'\u001b[0m\u001b[1;33m,\u001b[0m \u001b[0mSCOPETYPE\u001b[0m\u001b[1;33m=\u001b[0m\u001b[0mtestscope\u001b[0m\u001b[1;33m,\u001b[0m \u001b[0mPLATFORM\u001b[0m\u001b[1;33m=\u001b[0m\u001b[0mtestplat\u001b[0m\u001b[1;33m,\u001b[0m \u001b[0mCRYPTO_TARGET\u001b[0m\u001b[1;33m=\u001b[0m\u001b[0mcrypt\u001b[0m\u001b[1;33m,\u001b[0m  \u001b[0mVERSION\u001b[0m\u001b[1;33m=\u001b[0m\u001b[0mversion\u001b[0m\u001b[1;33m,\u001b[0m \u001b[0mSS_VER\u001b[0m\u001b[1;33m=\u001b[0m\u001b[1;34m\"SS_VER_2_0\"\u001b[0m\u001b[1;33m)\u001b[0m\u001b[1;33m\u001b[0m\u001b[1;33m\u001b[0m\u001b[0m\n\u001b[0m\u001b[0;32m     37\u001b[0m \u001b[1;31m#test_notebook('courses/sca101/SOLN_Lab 3_2 - Recovering Data from a Single Bit.ipynb', SCOPETYPE=testscope, PLATFORM=testplat, CRYPTO_TARGET=crypt,  VERSION=version)\u001b[0m\u001b[1;33m\u001b[0m\u001b[1;33m\u001b[0m\u001b[1;33m\u001b[0m\u001b[0m\n\u001b[0;32m     38\u001b[0m \u001b[1;31m#print(\"Passed Lab 2_1\")\u001b[0m\u001b[1;33m\u001b[0m\u001b[1;33m\u001b[0m\u001b[1;33m\u001b[0m\u001b[0m\n",
      "\u001b[1;32m~\\chipwhisperer\\jupyter\\tests\\tutorials.py\u001b[0m in \u001b[0;36mtest_notebook\u001b[1;34m(nb_path, output_dir, serial_number, export, allow_errors, print_first_traceback_only, print_stdout, print_stderr, allowable_exceptions, baud, **kwargs)\u001b[0m\n\u001b[0;32m    244\u001b[0m         \u001b[0mpassed\u001b[0m \u001b[1;33m=\u001b[0m \u001b[1;32mTrue\u001b[0m\u001b[1;33m\u001b[0m\u001b[1;33m\u001b[0m\u001b[0m\n\u001b[0;32m    245\u001b[0m         \u001b[1;32mif\u001b[0m \u001b[0mexport\u001b[0m\u001b[1;33m:\u001b[0m\u001b[1;33m\u001b[0m\u001b[1;33m\u001b[0m\u001b[0m\n\u001b[1;32m--> 246\u001b[1;33m             \u001b[0mexport_notebook\u001b[0m\u001b[1;33m(\u001b[0m\u001b[0mnb\u001b[0m\u001b[1;33m,\u001b[0m \u001b[0mnb_path\u001b[0m\u001b[1;33m,\u001b[0m \u001b[0moutput_dir\u001b[0m\u001b[1;33m,\u001b[0m \u001b[1;33m**\u001b[0m\u001b[0mexport_kwargs\u001b[0m\u001b[1;33m)\u001b[0m\u001b[1;33m\u001b[0m\u001b[1;33m\u001b[0m\u001b[0m\n\u001b[0m\u001b[0;32m    247\u001b[0m     \u001b[1;32melse\u001b[0m\u001b[1;33m:\u001b[0m\u001b[1;33m\u001b[0m\u001b[1;33m\u001b[0m\u001b[0m\n\u001b[0;32m    248\u001b[0m         \u001b[1;32mif\u001b[0m \u001b[0mallowable_exceptions\u001b[0m\u001b[1;33m:\u001b[0m\u001b[1;33m\u001b[0m\u001b[1;33m\u001b[0m\u001b[0m\n",
      "\u001b[1;32m~\\chipwhisperer\\jupyter\\tests\\tutorials.py\u001b[0m in \u001b[0;36mexport_notebook\u001b[1;34m(nb, nb_path, output_dir, SCOPETYPE, PLATFORM)\u001b[0m\n\u001b[0;32m    173\u001b[0m \u001b[1;33m\u001b[0m\u001b[0m\n\u001b[0;32m    174\u001b[0m \u001b[1;33m\u001b[0m\u001b[0m\n\u001b[1;32m--> 175\u001b[1;33m         \u001b[0mbody\u001b[0m\u001b[1;33m,\u001b[0m \u001b[0mres\u001b[0m \u001b[1;33m=\u001b[0m \u001b[0mrst_exporter\u001b[0m\u001b[1;33m.\u001b[0m\u001b[0mfrom_notebook_node\u001b[0m\u001b[1;33m(\u001b[0m\u001b[0mrst_ready_nb\u001b[0m\u001b[1;33m,\u001b[0m \u001b[0mresources\u001b[0m\u001b[1;33m=\u001b[0m\u001b[1;33m{\u001b[0m\u001b[1;34m'unique_key'\u001b[0m\u001b[1;33m:\u001b[0m \u001b[1;34m'img/{}-{}-{}'\u001b[0m\u001b[1;33m.\u001b[0m\u001b[0mformat\u001b[0m\u001b[1;33m(\u001b[0m\u001b[0mSCOPETYPE\u001b[0m\u001b[1;33m,\u001b[0m \u001b[0mPLATFORM\u001b[0m\u001b[1;33m,\u001b[0m \u001b[0mfile_name_root\u001b[0m\u001b[1;33m)\u001b[0m\u001b[1;33m.\u001b[0m\u001b[0mreplace\u001b[0m\u001b[1;33m(\u001b[0m\u001b[1;34m' '\u001b[0m\u001b[1;33m,\u001b[0m \u001b[1;34m''\u001b[0m\u001b[1;33m)\u001b[0m\u001b[1;33m}\u001b[0m\u001b[1;33m)\u001b[0m\u001b[1;33m\u001b[0m\u001b[1;33m\u001b[0m\u001b[0m\n\u001b[0m\u001b[0;32m    176\u001b[0m         \u001b[0mfile_names\u001b[0m \u001b[1;33m=\u001b[0m \u001b[0mres\u001b[0m\u001b[1;33m[\u001b[0m\u001b[1;34m'outputs'\u001b[0m\u001b[1;33m]\u001b[0m\u001b[1;33m.\u001b[0m\u001b[0mkeys\u001b[0m\u001b[1;33m(\u001b[0m\u001b[1;33m)\u001b[0m\u001b[1;33m\u001b[0m\u001b[1;33m\u001b[0m\u001b[0m\n\u001b[0;32m    177\u001b[0m         \u001b[1;32mfor\u001b[0m \u001b[0mname\u001b[0m \u001b[1;32min\u001b[0m \u001b[0mfile_names\u001b[0m\u001b[1;33m:\u001b[0m\u001b[1;33m\u001b[0m\u001b[1;33m\u001b[0m\u001b[0m\n",
      "\u001b[1;32m~\\WPy64-3771\\python-3.7.7.amd64\\lib\\site-packages\\nbconvert\\exporters\\templateexporter.py\u001b[0m in \u001b[0;36mfrom_notebook_node\u001b[1;34m(self, nb, resources, **kw)\u001b[0m\n\u001b[0;32m    382\u001b[0m \u001b[1;33m\u001b[0m\u001b[0m\n\u001b[0;32m    383\u001b[0m         \u001b[1;31m# Top level variables are passed to the template_exporter here.\u001b[0m\u001b[1;33m\u001b[0m\u001b[1;33m\u001b[0m\u001b[1;33m\u001b[0m\u001b[0m\n\u001b[1;32m--> 384\u001b[1;33m         \u001b[0moutput\u001b[0m \u001b[1;33m=\u001b[0m \u001b[0mself\u001b[0m\u001b[1;33m.\u001b[0m\u001b[0mtemplate\u001b[0m\u001b[1;33m.\u001b[0m\u001b[0mrender\u001b[0m\u001b[1;33m(\u001b[0m\u001b[0mnb\u001b[0m\u001b[1;33m=\u001b[0m\u001b[0mnb_copy\u001b[0m\u001b[1;33m,\u001b[0m \u001b[0mresources\u001b[0m\u001b[1;33m=\u001b[0m\u001b[0mresources\u001b[0m\u001b[1;33m)\u001b[0m\u001b[1;33m\u001b[0m\u001b[1;33m\u001b[0m\u001b[0m\n\u001b[0m\u001b[0;32m    385\u001b[0m         \u001b[0moutput\u001b[0m \u001b[1;33m=\u001b[0m \u001b[0moutput\u001b[0m\u001b[1;33m.\u001b[0m\u001b[0mlstrip\u001b[0m\u001b[1;33m(\u001b[0m\u001b[1;34m'\\r\\n'\u001b[0m\u001b[1;33m)\u001b[0m\u001b[1;33m\u001b[0m\u001b[1;33m\u001b[0m\u001b[0m\n\u001b[0;32m    386\u001b[0m         \u001b[1;32mreturn\u001b[0m \u001b[0moutput\u001b[0m\u001b[1;33m,\u001b[0m \u001b[0mresources\u001b[0m\u001b[1;33m\u001b[0m\u001b[1;33m\u001b[0m\u001b[0m\n",
      "\u001b[1;32m~\\WPy64-3771\\python-3.7.7.amd64\\lib\\site-packages\\nbconvert\\exporters\\templateexporter.py\u001b[0m in \u001b[0;36mtemplate\u001b[1;34m(self)\u001b[0m\n\u001b[0;32m    146\u001b[0m     \u001b[1;32mdef\u001b[0m \u001b[0mtemplate\u001b[0m\u001b[1;33m(\u001b[0m\u001b[0mself\u001b[0m\u001b[1;33m)\u001b[0m\u001b[1;33m:\u001b[0m\u001b[1;33m\u001b[0m\u001b[1;33m\u001b[0m\u001b[0m\n\u001b[0;32m    147\u001b[0m         \u001b[1;32mif\u001b[0m \u001b[0mself\u001b[0m\u001b[1;33m.\u001b[0m\u001b[0m_template_cached\u001b[0m \u001b[1;32mis\u001b[0m \u001b[1;32mNone\u001b[0m\u001b[1;33m:\u001b[0m\u001b[1;33m\u001b[0m\u001b[1;33m\u001b[0m\u001b[0m\n\u001b[1;32m--> 148\u001b[1;33m             \u001b[0mself\u001b[0m\u001b[1;33m.\u001b[0m\u001b[0m_template_cached\u001b[0m \u001b[1;33m=\u001b[0m \u001b[0mself\u001b[0m\u001b[1;33m.\u001b[0m\u001b[0m_load_template\u001b[0m\u001b[1;33m(\u001b[0m\u001b[1;33m)\u001b[0m\u001b[1;33m\u001b[0m\u001b[1;33m\u001b[0m\u001b[0m\n\u001b[0m\u001b[0;32m    149\u001b[0m         \u001b[1;32mreturn\u001b[0m \u001b[0mself\u001b[0m\u001b[1;33m.\u001b[0m\u001b[0m_template_cached\u001b[0m\u001b[1;33m\u001b[0m\u001b[1;33m\u001b[0m\u001b[0m\n\u001b[0;32m    150\u001b[0m \u001b[1;33m\u001b[0m\u001b[0m\n",
      "\u001b[1;32m~\\WPy64-3771\\python-3.7.7.amd64\\lib\\site-packages\\nbconvert\\exporters\\templateexporter.py\u001b[0m in \u001b[0;36m_load_template\u001b[1;34m(self)\u001b[0m\n\u001b[0;32m    353\u001b[0m         \u001b[0mself\u001b[0m\u001b[1;33m.\u001b[0m\u001b[0mlog\u001b[0m\u001b[1;33m.\u001b[0m\u001b[0mdebug\u001b[0m\u001b[1;33m(\u001b[0m\u001b[1;34m\"Attempting to load template %s\"\u001b[0m\u001b[1;33m,\u001b[0m \u001b[0mtemplate_file\u001b[0m\u001b[1;33m)\u001b[0m\u001b[1;33m\u001b[0m\u001b[1;33m\u001b[0m\u001b[0m\n\u001b[0;32m    354\u001b[0m         \u001b[0mself\u001b[0m\u001b[1;33m.\u001b[0m\u001b[0mlog\u001b[0m\u001b[1;33m.\u001b[0m\u001b[0mdebug\u001b[0m\u001b[1;33m(\u001b[0m\u001b[1;34m\"    template_paths: %s\"\u001b[0m\u001b[1;33m,\u001b[0m \u001b[0mos\u001b[0m\u001b[1;33m.\u001b[0m\u001b[0mpathsep\u001b[0m\u001b[1;33m.\u001b[0m\u001b[0mjoin\u001b[0m\u001b[1;33m(\u001b[0m\u001b[0mself\u001b[0m\u001b[1;33m.\u001b[0m\u001b[0mtemplate_paths\u001b[0m\u001b[1;33m)\u001b[0m\u001b[1;33m)\u001b[0m\u001b[1;33m\u001b[0m\u001b[1;33m\u001b[0m\u001b[0m\n\u001b[1;32m--> 355\u001b[1;33m         \u001b[1;32mreturn\u001b[0m \u001b[0mself\u001b[0m\u001b[1;33m.\u001b[0m\u001b[0menvironment\u001b[0m\u001b[1;33m.\u001b[0m\u001b[0mget_template\u001b[0m\u001b[1;33m(\u001b[0m\u001b[0mtemplate_file\u001b[0m\u001b[1;33m)\u001b[0m\u001b[1;33m\u001b[0m\u001b[1;33m\u001b[0m\u001b[0m\n\u001b[0m\u001b[0;32m    356\u001b[0m \u001b[1;33m\u001b[0m\u001b[0m\n\u001b[0;32m    357\u001b[0m     \u001b[1;32mdef\u001b[0m \u001b[0mfrom_notebook_node\u001b[0m\u001b[1;33m(\u001b[0m\u001b[0mself\u001b[0m\u001b[1;33m,\u001b[0m \u001b[0mnb\u001b[0m\u001b[1;33m,\u001b[0m \u001b[0mresources\u001b[0m\u001b[1;33m=\u001b[0m\u001b[1;32mNone\u001b[0m\u001b[1;33m,\u001b[0m \u001b[1;33m**\u001b[0m\u001b[0mkw\u001b[0m\u001b[1;33m)\u001b[0m\u001b[1;33m:\u001b[0m\u001b[1;33m\u001b[0m\u001b[1;33m\u001b[0m\u001b[0m\n",
      "\u001b[1;32m~\\WPy64-3771\\python-3.7.7.amd64\\lib\\site-packages\\jinja2\\environment.py\u001b[0m in \u001b[0;36mget_template\u001b[1;34m(self, name, parent, globals)\u001b[0m\n\u001b[0;32m    881\u001b[0m         \u001b[1;32mif\u001b[0m \u001b[0mparent\u001b[0m \u001b[1;32mis\u001b[0m \u001b[1;32mnot\u001b[0m \u001b[1;32mNone\u001b[0m\u001b[1;33m:\u001b[0m\u001b[1;33m\u001b[0m\u001b[1;33m\u001b[0m\u001b[0m\n\u001b[0;32m    882\u001b[0m             \u001b[0mname\u001b[0m \u001b[1;33m=\u001b[0m \u001b[0mself\u001b[0m\u001b[1;33m.\u001b[0m\u001b[0mjoin_path\u001b[0m\u001b[1;33m(\u001b[0m\u001b[0mname\u001b[0m\u001b[1;33m,\u001b[0m \u001b[0mparent\u001b[0m\u001b[1;33m)\u001b[0m\u001b[1;33m\u001b[0m\u001b[1;33m\u001b[0m\u001b[0m\n\u001b[1;32m--> 883\u001b[1;33m         \u001b[1;32mreturn\u001b[0m \u001b[0mself\u001b[0m\u001b[1;33m.\u001b[0m\u001b[0m_load_template\u001b[0m\u001b[1;33m(\u001b[0m\u001b[0mname\u001b[0m\u001b[1;33m,\u001b[0m \u001b[0mself\u001b[0m\u001b[1;33m.\u001b[0m\u001b[0mmake_globals\u001b[0m\u001b[1;33m(\u001b[0m\u001b[0mglobals\u001b[0m\u001b[1;33m)\u001b[0m\u001b[1;33m)\u001b[0m\u001b[1;33m\u001b[0m\u001b[1;33m\u001b[0m\u001b[0m\n\u001b[0m\u001b[0;32m    884\u001b[0m \u001b[1;33m\u001b[0m\u001b[0m\n\u001b[0;32m    885\u001b[0m     \u001b[1;33m@\u001b[0m\u001b[0minternalcode\u001b[0m\u001b[1;33m\u001b[0m\u001b[1;33m\u001b[0m\u001b[0m\n",
      "\u001b[1;32m~\\WPy64-3771\\python-3.7.7.amd64\\lib\\site-packages\\jinja2\\environment.py\u001b[0m in \u001b[0;36m_load_template\u001b[1;34m(self, name, globals)\u001b[0m\n\u001b[0;32m    855\u001b[0m             ):\n\u001b[0;32m    856\u001b[0m                 \u001b[1;32mreturn\u001b[0m \u001b[0mtemplate\u001b[0m\u001b[1;33m\u001b[0m\u001b[1;33m\u001b[0m\u001b[0m\n\u001b[1;32m--> 857\u001b[1;33m         \u001b[0mtemplate\u001b[0m \u001b[1;33m=\u001b[0m \u001b[0mself\u001b[0m\u001b[1;33m.\u001b[0m\u001b[0mloader\u001b[0m\u001b[1;33m.\u001b[0m\u001b[0mload\u001b[0m\u001b[1;33m(\u001b[0m\u001b[0mself\u001b[0m\u001b[1;33m,\u001b[0m \u001b[0mname\u001b[0m\u001b[1;33m,\u001b[0m \u001b[0mglobals\u001b[0m\u001b[1;33m)\u001b[0m\u001b[1;33m\u001b[0m\u001b[1;33m\u001b[0m\u001b[0m\n\u001b[0m\u001b[0;32m    858\u001b[0m         \u001b[1;32mif\u001b[0m \u001b[0mself\u001b[0m\u001b[1;33m.\u001b[0m\u001b[0mcache\u001b[0m \u001b[1;32mis\u001b[0m \u001b[1;32mnot\u001b[0m \u001b[1;32mNone\u001b[0m\u001b[1;33m:\u001b[0m\u001b[1;33m\u001b[0m\u001b[1;33m\u001b[0m\u001b[0m\n\u001b[0;32m    859\u001b[0m             \u001b[0mself\u001b[0m\u001b[1;33m.\u001b[0m\u001b[0mcache\u001b[0m\u001b[1;33m[\u001b[0m\u001b[0mcache_key\u001b[0m\u001b[1;33m]\u001b[0m \u001b[1;33m=\u001b[0m \u001b[0mtemplate\u001b[0m\u001b[1;33m\u001b[0m\u001b[1;33m\u001b[0m\u001b[0m\n",
      "\u001b[1;32m~\\WPy64-3771\\python-3.7.7.amd64\\lib\\site-packages\\jinja2\\loaders.py\u001b[0m in \u001b[0;36mload\u001b[1;34m(self, environment, name, globals)\u001b[0m\n\u001b[0;32m    427\u001b[0m             \u001b[1;32mexcept\u001b[0m \u001b[0mTemplateNotFound\u001b[0m\u001b[1;33m:\u001b[0m\u001b[1;33m\u001b[0m\u001b[1;33m\u001b[0m\u001b[0m\n\u001b[0;32m    428\u001b[0m                 \u001b[1;32mpass\u001b[0m\u001b[1;33m\u001b[0m\u001b[1;33m\u001b[0m\u001b[0m\n\u001b[1;32m--> 429\u001b[1;33m         \u001b[1;32mraise\u001b[0m \u001b[0mTemplateNotFound\u001b[0m\u001b[1;33m(\u001b[0m\u001b[0mname\u001b[0m\u001b[1;33m)\u001b[0m\u001b[1;33m\u001b[0m\u001b[1;33m\u001b[0m\u001b[0m\n\u001b[0m\u001b[0;32m    430\u001b[0m \u001b[1;33m\u001b[0m\u001b[0m\n\u001b[0;32m    431\u001b[0m     \u001b[1;32mdef\u001b[0m \u001b[0mlist_templates\u001b[0m\u001b[1;33m(\u001b[0m\u001b[0mself\u001b[0m\u001b[1;33m)\u001b[0m\u001b[1;33m:\u001b[0m\u001b[1;33m\u001b[0m\u001b[1;33m\u001b[0m\u001b[0m\n",
      "\u001b[1;31mTemplateNotFound\u001b[0m: rst_extended.tpl"
     ]
    }
   ],
   "source": [
    "import os\n",
    "from glob import glob\n",
    "import tests\n",
    "import shutil\n",
    "from tests.tutorials import test_notebook, clear_outputs_in_dir\n",
    "from functools import partial\n",
    "with tests.cd('../hardware/victims/firmware'):\n",
    "    dirs = glob('simpleserial-base-lab*')\n",
    "    dirs.extend(glob('glitch-simple-lab*'))\n",
    "    dirs.extend(glob('simpleserial-aes-lab*'))\n",
    "    for d in dirs:\n",
    "        shutil.rmtree(d)\n",
    "        \n",
    "output_dir = os.path.abspath(os.path.join('..', 'tutorials'))\n",
    "test_notebook = partial(test_notebook, allow_errors=False, output_dir=output_dir)\n",
    "\n",
    "# make sure the images are copied over for linking\n",
    "try:\n",
    "    os.mkdir(os.path.join(output_dir, 'img'))\n",
    "except FileExistsError:\n",
    "    pass\n",
    "\n",
    "for course in glob('./courses/*'):\n",
    "    for image in glob('{}/img/*'.format(course)):\n",
    "        _, image_name = os.path.split(image)\n",
    "        print(os.path.join(output_dir, 'img', image_name))\n",
    "        shutil.copyfile(image, os.path.join(output_dir, 'img', image_name))\n",
    "        \n",
    "testscope = 'OPENADC'\n",
    "# testplat = 'CWLITEARM'\n",
    "testplat = 'CWLITEXMEGA'\n",
    "crypt = 'TINYAES128C'\n",
    "\n",
    "version = 'HARDWARE'\n",
    "\n",
    "test_notebook('courses/sca101/SOLN_Lab 3_1 - Large Hamming Weight Swings.ipynb', SCOPETYPE=testscope, PLATFORM=testplat, CRYPTO_TARGET=crypt,  VERSION=version, SS_VER=\"SS_VER_2_0\")\n",
    "#test_notebook('courses/sca101/SOLN_Lab 3_2 - Recovering Data from a Single Bit.ipynb', SCOPETYPE=testscope, PLATFORM=testplat, CRYPTO_TARGET=crypt,  VERSION=version)\n",
    "#print(\"Passed Lab 2_1\")\n"
   ]
  },
  {
   "cell_type": "code",
   "execution_count": 7,
   "metadata": {},
   "outputs": [],
   "source": [
    "import os\n",
    "from glob import glob\n",
    "import tests\n",
    "import shutil\n",
    "from tests.tutorials import test_notebook, clear_outputs_in_dir\n",
    "from functools import partial"
   ]
  },
  {
   "cell_type": "code",
   "execution_count": 8,
   "metadata": {},
   "outputs": [],
   "source": [
    "with tests.cd('../hardware/victims/firmware'):\n",
    "    dirs = glob('simpleserial-base-lab*')\n",
    "    dirs.extend(glob('glitch-simple-lab*'))\n",
    "    dirs.extend(glob('simpleserial-aes-lab*'))\n",
    "    for d in dirs:\n",
    "        shutil.rmtree(d)"
   ]
  },
  {
   "cell_type": "code",
   "execution_count": 9,
   "metadata": {},
   "outputs": [
    {
     "name": "stdout",
     "output_type": "stream",
     "text": [
      "Clearing ./courses/sca101/SOLN_Lab 2_1B - Power Analysis for Password Bypass.ipynb\n",
      "Clearing ./courses/sca101/SOLN_Lab 3_1 - Large Hamming Weight Swings.ipynb\n",
      "Clearing ./courses/sca101/SOLN_Lab 3_2 - Recovering Data from a Single Bit.ipynb\n",
      "Clearing ./courses/sca101/SOLN_Lab 3_3 - DPA on Firmware Implementation of AES.ipynb\n",
      "Clearing ./courses/sca101/SOLN_Lab 4_1 - Power and Hamming Weight Relationship.ipynb\n",
      "Clearing ./courses/sca101/SOLN_Lab 4_2 - CPA on Firmware Implementation of AES.ipynb\n",
      "Clearing ./courses/sca101/Lab 0 - SCA101 Setup.ipynb\n",
      "Clearing ./courses/sca101/Lab 2_1A - Instruction Power Differences (HARDWARE).ipynb\n",
      "Clearing ./courses/sca101/Lab 2_1A - Instruction Power Differences (MAIN).ipynb\n",
      "Clearing ./courses/sca101/Lab 2_1A - Instruction Power Differences (SIMULATED).ipynb\n",
      "Clearing ./courses/sca101/Lab 2_1B - Power Analysis for Password Bypass (HARDWARE).ipynb\n",
      "Clearing ./courses/sca101/Lab 2_1B - Power Analysis for Password Bypass (MAIN).ipynb\n",
      "Clearing ./courses/sca101/Lab 2_1B - Power Analysis for Password Bypass (SIMULATED).ipynb\n",
      "Clearing ./courses/sca101/Lab 3_1 - Large Hamming Weight Swings (HARDWARE).ipynb\n",
      "Clearing ./courses/sca101/Lab 3_1 - Large Hamming Weight Swings (MAIN).ipynb\n",
      "Clearing ./courses/sca101/Lab 3_1 - Large Hamming Weight Swings (SIMULATED).ipynb\n",
      "Clearing ./courses/sca101/Lab 3_2 - Recovering Data from a Single Bit.ipynb\n",
      "Clearing ./courses/sca101/Lab 3_3 - DPA on Firmware Implementation of AES (HARDWARE).ipynb\n",
      "Clearing ./courses/sca101/Lab 3_3 - DPA on Firmware Implementation of AES (MAIN).ipynb\n",
      "Clearing ./courses/sca101/Lab 3_3 - DPA on Firmware Implementation of AES (SIMULATED).ipynb\n",
      "Clearing ./courses/sca101/Lab 4_1 - Power and Hamming Weight Relationship (HARDWARE).ipynb\n",
      "Clearing ./courses/sca101/Lab 4_1 - Power and Hamming Weight Relationship (MAIN).ipynb\n",
      "Clearing ./courses/sca101/Lab 4_1 - Power and Hamming Weight Relationship (SIMULATED).ipynb\n",
      "Clearing ./courses/sca101/Lab 4_2 - CPA on Firmware Implementation of AES (HARDWARE).ipynb\n",
      "Clearing ./courses/sca101/Lab 4_2 - CPA on Firmware Implementation of AES (MAIN).ipynb\n",
      "Clearing ./courses/sca101/Lab 4_2 - CPA on Firmware Implementation of AES (SIMULATED).ipynb\n",
      "Clearing ./courses/sca101/Lab 4_3 - ChipWhisperer Analyzer CPA Attack (HARDWARE).ipynb\n",
      "Clearing ./courses/sca101/Lab 4_3 - ChipWhisperer Analyzer CPA Attack (MAIN).ipynb\n",
      "Clearing ./courses/sca101/Lab 4_3 - ChipWhisperer Analyzer CPA Attack (SIMULATED).ipynb\n",
      "Clearing ./courses/sca101/Lab 5_1 - ChipWhisperer CPA Attacks in Practice.ipynb\n",
      "Clearing ./courses/sca101/Lab 6_4 - Jittery Triggering on UART.ipynb\n"
     ]
    }
   ],
   "source": [
    "clear_outputs_in_dir(\"./courses/sca101\", kwargs={\"SCOPETYPE\": \"OPENADC\", \"PLATFORM\": \"CWLITEARM\", \"VERSION\": \"HARDWARE\", \"SS_VER\": \"SS_VER_1_1\"})\n",
    "clear_outputs_in_dir(\"./courses/sca101\", blacklist=r\"^SOLN.*\", kwargs={})"
   ]
  },
  {
   "cell_type": "code",
   "execution_count": 10,
   "metadata": {},
   "outputs": [
    {
     "name": "stdout",
     "output_type": "stream",
     "text": [
      "Clearing ./courses/fault101/Fault 1_1 - Introduction to Clock Glitching.ipynb\n",
      "Clearing ./courses/fault101/Fault 1_3 - Clock Glitching to Memory Dump.ipynb\n",
      "Clearing ./courses/fault101/Fault 2_1 - Introduction to Voltage Glitching.ipynb\n",
      "Clearing ./courses/fault101/Fault 2_3 - Voltage Glitching to Memory Dump.ipynb\n",
      "Clearing ./courses/fault101/SOLN_Fault 1_1 - Introduction to Clock Glitching.ipynb\n",
      "Clearing ./courses/fault101/SOLN_Fault 1_3 - Clock Glitching to Memory Dump.ipynb\n",
      "Clearing ./courses/fault101/SOLN_Fault 2_1 - Introduction to Voltage Glitching.ipynb\n",
      "Clearing ./courses/fault101/SOLN_Fault 2_3 - Voltage Glitching to Memory Dump.ipynb\n",
      "Clearing ./courses/fault101/SOLN_Fault 2_1B - Introduction to Voltage Glitching with CWNano.ipynb\n",
      "Clearing ./courses/fault101/SOLN_Fault 2_2B - Voltage Glitching with CWNano to Bypass Password.ipynb\n"
     ]
    }
   ],
   "source": [
    "clear_outputs_in_dir(\"./courses/fault101\", kwargs={\"SCOPETYPE\": \"OPENADC\", \"PLATFORM\": \"CWLITEARM\"}, blacklist=r\".*B.*\")\n",
    "clear_outputs_in_dir(\"./courses/fault101\", kwargs={\"SCOPETYPE\": \"CWNANO\", \"PLATFORM\": \"CWNANO\"}, blacklist=r\".*[0-9]_[0-9][^B].*\")"
   ]
  },
  {
   "cell_type": "code",
   "execution_count": 11,
   "metadata": {},
   "outputs": [
    {
     "name": "stdout",
     "output_type": "stream",
     "text": [
      "Clearing ./courses/sca201/SOLN_Lab 1_1A - Resychronizing Traces with Sum of Absolute Difference.ipynb\n",
      "Clearing ./courses/sca201/SOLN_Lab 1_1B - Resychronizing Traces with Dynamic Time Warp.ipynb\n"
     ]
    }
   ],
   "source": [
    "clear_outputs_in_dir(\"./courses/sca201\", kwargs={\"SCOPETYPE\": \"OPENADC\", \"PLATFORM\": \"CWLITEARM\"}, \\\n",
    "                     blacklist=r\"^(Lab.*)|(SOLN_Lab [2-9].*)|(Extending.*)\")"
   ]
  },
  {
   "cell_type": "code",
   "execution_count": 12,
   "metadata": {},
   "outputs": [
    {
     "name": "stdout",
     "output_type": "stream",
     "text": [
      "C:\\Users\\GC_Lu\\CHIPWH~1\\cw\\home\\portable\\chipwhisperer\\tutorials\\img\\aes_operations.png\n",
      "C:\\Users\\GC_Lu\\CHIPWH~1\\cw\\home\\portable\\chipwhisperer\\tutorials\\img\\clock_glitches.png\n",
      "C:\\Users\\GC_Lu\\CHIPWH~1\\cw\\home\\portable\\chipwhisperer\\tutorials\\img\\A9_LPC1114_CHANGES.jpg\n",
      "C:\\Users\\GC_Lu\\CHIPWH~1\\cw\\home\\portable\\chipwhisperer\\tutorials\\img\\A9_LPC_CWLITE_Conn.jpg\n",
      "C:\\Users\\GC_Lu\\CHIPWH~1\\cw\\home\\portable\\chipwhisperer\\tutorials\\img\\4traces_aes_clkx1.png\n",
      "C:\\Users\\GC_Lu\\CHIPWH~1\\cw\\home\\portable\\chipwhisperer\\tutorials\\img\\4traces_aes_clkx1_offset60000.png\n",
      "C:\\Users\\GC_Lu\\CHIPWH~1\\cw\\home\\portable\\chipwhisperer\\tutorials\\img\\4traces_aes_clkx1_presample5000.png\n",
      "C:\\Users\\GC_Lu\\CHIPWH~1\\cw\\home\\portable\\chipwhisperer\\tutorials\\img\\4traces_aes_clkx1_presample5000_zoom.png\n",
      "C:\\Users\\GC_Lu\\CHIPWH~1\\cw\\home\\portable\\chipwhisperer\\tutorials\\img\\4traces_aes_clkx4.png\n",
      "C:\\Users\\GC_Lu\\CHIPWH~1\\cw\\home\\portable\\chipwhisperer\\tutorials\\img\\4traces_aes_poortrigger.png\n",
      "C:\\Users\\GC_Lu\\CHIPWH~1\\cw\\home\\portable\\chipwhisperer\\tutorials\\img\\aesinput.png\n",
      "C:\\Users\\GC_Lu\\CHIPWH~1\\cw\\home\\portable\\chipwhisperer\\tutorials\\img\\dpa-doublepeak.png\n",
      "C:\\Users\\GC_Lu\\CHIPWH~1\\cw\\home\\portable\\chipwhisperer\\tutorials\\img\\dpa_peakexample.png\n",
      "C:\\Users\\GC_Lu\\CHIPWH~1\\cw\\home\\portable\\chipwhisperer\\tutorials\\img\\shunt_chipwhisperer.png\n",
      "C:\\Users\\GC_Lu\\CHIPWH~1\\cw\\home\\portable\\chipwhisperer\\tutorials\\img\\spa_password_diffexample.png\n",
      "C:\\Users\\GC_Lu\\CHIPWH~1\\cw\\home\\portable\\chipwhisperer\\tutorials\\img\\spa_password_h_vs_0_overview.png\n",
      "C:\\Users\\GC_Lu\\CHIPWH~1\\cw\\home\\portable\\chipwhisperer\\tutorials\\img\\spa_password_h_vs_0_zoomed.png\n",
      "C:\\Users\\GC_Lu\\CHIPWH~1\\cw\\home\\portable\\chipwhisperer\\tutorials\\img\\spa_password_list_char1.png\n",
      "C:\\Users\\GC_Lu\\CHIPWH~1\\cw\\home\\portable\\chipwhisperer\\tutorials\\img\\traces_wrong.png\n",
      "C:\\Users\\GC_Lu\\CHIPWH~1\\cw\\home\\portable\\chipwhisperer\\tutorials\\img\\uart_triggers.png\n",
      "C:\\Users\\GC_Lu\\CHIPWH~1\\cw\\home\\portable\\chipwhisperer\\tutorials\\img\\GoodVBadRef.png\n",
      "C:\\Users\\GC_Lu\\CHIPWH~1\\cw\\home\\portable\\chipwhisperer\\tutorials\\img\\Resync_traces_ref.png\n",
      "C:\\Users\\GC_Lu\\CHIPWH~1\\cw\\home\\portable\\chipwhisperer\\tutorials\\img\\stm_run1.png\n"
     ]
    }
   ],
   "source": [
    "output_dir = os.path.abspath(os.path.join('..', 'tutorials'))\n",
    "test_notebook = partial(test_notebook, allow_errors=False, output_dir=output_dir)\n",
    "\n",
    "# make sure the images are copied over for linking\n",
    "try:\n",
    "    os.mkdir(os.path.join(output_dir, 'img'))\n",
    "except FileExistsError:\n",
    "    pass\n",
    "\n",
    "for course in glob('./courses/*'):\n",
    "    for image in glob('{}/img/*'.format(course)):\n",
    "        _, image_name = os.path.split(image)\n",
    "        print(os.path.join(output_dir, 'img', image_name))\n",
    "        shutil.copyfile(image, os.path.join(output_dir, 'img', image_name))"
   ]
  },
  {
   "cell_type": "code",
   "execution_count": 13,
   "metadata": {},
   "outputs": [],
   "source": [
    "testscope = 'OPENADC'\n",
    "testplat = 'CWLITEARM'\n",
    "crypt = 'TINYAES128C'"
   ]
  },
  {
   "cell_type": "code",
   "execution_count": 14,
   "metadata": {},
   "outputs": [],
   "source": [
    "testscope = 'OPENADC'\n",
    "testplat = 'CWLITEXMEGA'\n",
    "crypt = 'AVRCRYPTOLIB'"
   ]
  },
  {
   "cell_type": "code",
   "execution_count": null,
   "metadata": {},
   "outputs": [],
   "source": [
    "testscope = 'CWNANO'\n",
    "testplat = 'CWNANO'\n",
    "crypt = 'TINYAES128C'"
   ]
  },
  {
   "cell_type": "code",
   "execution_count": 15,
   "metadata": {},
   "outputs": [],
   "source": [
    "version = 'HARDWARE'"
   ]
  },
  {
   "cell_type": "code",
   "execution_count": null,
   "metadata": {},
   "outputs": [],
   "source": [
    "version='SIMULATED'"
   ]
  },
  {
   "cell_type": "code",
   "execution_count": 17,
   "metadata": {},
   "outputs": [],
   "source": [
    "ss_ver='SS_VER_2_0'"
   ]
  },
  {
   "cell_type": "code",
   "execution_count": 18,
   "metadata": {
    "scrolled": false
   },
   "outputs": [
    {
     "name": "stdout",
     "output_type": "stream",
     "text": [
      "\n",
      "Testing: C:\\Users\\GC_Lu\\CHIPWH~1\\cw\\home\\portable\\chipwhisperer\\jupyter\\courses\\sca101\\SOLN_Lab 2_1B - Power Analysis for Password Bypass.ipynb:...\n",
      "with {'SCOPETYPE': 'OPENADC', 'PLATFORM': 'CWLITEXMEGA', 'VERSION': 'HARDWARE', 'SS_VER': 'SS_VER_2_0'}.\n",
      "No serial number specified... only bad if more than one device attached.\n",
      "Inserting allowable_exceptions\n",
      "PASSED\n"
     ]
    },
    {
     "ename": "TemplateNotFound",
     "evalue": "rst_extended.tpl",
     "output_type": "error",
     "traceback": [
      "\u001b[1;31m---------------------------------------------------------------------------\u001b[0m",
      "\u001b[1;31mTemplateNotFound\u001b[0m                          Traceback (most recent call last)",
      "\u001b[1;32m<ipython-input-18-24703821b586>\u001b[0m in \u001b[0;36m<module>\u001b[1;34m\u001b[0m\n\u001b[0;32m      1\u001b[0m \u001b[1;31m# Test SCA101\u001b[0m\u001b[1;33m\u001b[0m\u001b[1;33m\u001b[0m\u001b[1;33m\u001b[0m\u001b[0m\n\u001b[1;32m----> 2\u001b[1;33m \u001b[0mtest_notebook\u001b[0m\u001b[1;33m(\u001b[0m\u001b[1;34m'courses/sca101/SOLN_Lab 2_1B - Power Analysis for Password Bypass.ipynb'\u001b[0m\u001b[1;33m,\u001b[0m \u001b[0mSCOPETYPE\u001b[0m\u001b[1;33m=\u001b[0m\u001b[0mtestscope\u001b[0m\u001b[1;33m,\u001b[0m \u001b[0mPLATFORM\u001b[0m\u001b[1;33m=\u001b[0m\u001b[0mtestplat\u001b[0m\u001b[1;33m,\u001b[0m \u001b[0mVERSION\u001b[0m\u001b[1;33m=\u001b[0m\u001b[0mversion\u001b[0m\u001b[1;33m,\u001b[0m \u001b[0mSS_VER\u001b[0m\u001b[1;33m=\u001b[0m\u001b[0mss_ver\u001b[0m\u001b[1;33m)\u001b[0m\u001b[1;33m\u001b[0m\u001b[1;33m\u001b[0m\u001b[0m\n\u001b[0m\u001b[0;32m      3\u001b[0m \u001b[0mprint\u001b[0m\u001b[1;33m(\u001b[0m\u001b[1;34m\"Passed Lab 2_1\"\u001b[0m\u001b[1;33m)\u001b[0m\u001b[1;33m\u001b[0m\u001b[1;33m\u001b[0m\u001b[0m\n\u001b[0;32m      4\u001b[0m \u001b[1;31m#assert 1 == 2\u001b[0m\u001b[1;33m\u001b[0m\u001b[1;33m\u001b[0m\u001b[1;33m\u001b[0m\u001b[0m\n\u001b[0;32m      5\u001b[0m \u001b[0mtest_notebook\u001b[0m\u001b[1;33m(\u001b[0m\u001b[1;34m'courses/sca101/SOLN_Lab 3_1 - Large Hamming Weight Swings.ipynb'\u001b[0m\u001b[1;33m,\u001b[0m \u001b[0mSCOPETYPE\u001b[0m\u001b[1;33m=\u001b[0m\u001b[0mtestscope\u001b[0m\u001b[1;33m,\u001b[0m \u001b[0mPLATFORM\u001b[0m\u001b[1;33m=\u001b[0m\u001b[0mtestplat\u001b[0m\u001b[1;33m,\u001b[0m \u001b[0mCRYPTO_TARGET\u001b[0m\u001b[1;33m=\u001b[0m\u001b[0mcrypt\u001b[0m\u001b[1;33m,\u001b[0m  \u001b[0mVERSION\u001b[0m\u001b[1;33m=\u001b[0m\u001b[0mversion\u001b[0m\u001b[1;33m,\u001b[0m \u001b[0mSS_VER\u001b[0m\u001b[1;33m=\u001b[0m\u001b[0mss_ver\u001b[0m\u001b[1;33m)\u001b[0m\u001b[1;33m\u001b[0m\u001b[1;33m\u001b[0m\u001b[0m\n",
      "\u001b[1;32m~\\chipwhisperer\\jupyter\\tests\\tutorials.py\u001b[0m in \u001b[0;36mtest_notebook\u001b[1;34m(nb_path, output_dir, serial_number, export, allow_errors, print_first_traceback_only, print_stdout, print_stderr, allowable_exceptions, baud, **kwargs)\u001b[0m\n\u001b[0;32m    244\u001b[0m         \u001b[0mpassed\u001b[0m \u001b[1;33m=\u001b[0m \u001b[1;32mTrue\u001b[0m\u001b[1;33m\u001b[0m\u001b[1;33m\u001b[0m\u001b[0m\n\u001b[0;32m    245\u001b[0m         \u001b[1;32mif\u001b[0m \u001b[0mexport\u001b[0m\u001b[1;33m:\u001b[0m\u001b[1;33m\u001b[0m\u001b[1;33m\u001b[0m\u001b[0m\n\u001b[1;32m--> 246\u001b[1;33m             \u001b[0mexport_notebook\u001b[0m\u001b[1;33m(\u001b[0m\u001b[0mnb\u001b[0m\u001b[1;33m,\u001b[0m \u001b[0mnb_path\u001b[0m\u001b[1;33m,\u001b[0m \u001b[0moutput_dir\u001b[0m\u001b[1;33m,\u001b[0m \u001b[1;33m**\u001b[0m\u001b[0mexport_kwargs\u001b[0m\u001b[1;33m)\u001b[0m\u001b[1;33m\u001b[0m\u001b[1;33m\u001b[0m\u001b[0m\n\u001b[0m\u001b[0;32m    247\u001b[0m     \u001b[1;32melse\u001b[0m\u001b[1;33m:\u001b[0m\u001b[1;33m\u001b[0m\u001b[1;33m\u001b[0m\u001b[0m\n\u001b[0;32m    248\u001b[0m         \u001b[1;32mif\u001b[0m \u001b[0mallowable_exceptions\u001b[0m\u001b[1;33m:\u001b[0m\u001b[1;33m\u001b[0m\u001b[1;33m\u001b[0m\u001b[0m\n",
      "\u001b[1;32m~\\chipwhisperer\\jupyter\\tests\\tutorials.py\u001b[0m in \u001b[0;36mexport_notebook\u001b[1;34m(nb, nb_path, output_dir, SCOPETYPE, PLATFORM)\u001b[0m\n\u001b[0;32m    173\u001b[0m \u001b[1;33m\u001b[0m\u001b[0m\n\u001b[0;32m    174\u001b[0m \u001b[1;33m\u001b[0m\u001b[0m\n\u001b[1;32m--> 175\u001b[1;33m         \u001b[0mbody\u001b[0m\u001b[1;33m,\u001b[0m \u001b[0mres\u001b[0m \u001b[1;33m=\u001b[0m \u001b[0mrst_exporter\u001b[0m\u001b[1;33m.\u001b[0m\u001b[0mfrom_notebook_node\u001b[0m\u001b[1;33m(\u001b[0m\u001b[0mrst_ready_nb\u001b[0m\u001b[1;33m,\u001b[0m \u001b[0mresources\u001b[0m\u001b[1;33m=\u001b[0m\u001b[1;33m{\u001b[0m\u001b[1;34m'unique_key'\u001b[0m\u001b[1;33m:\u001b[0m \u001b[1;34m'img/{}-{}-{}'\u001b[0m\u001b[1;33m.\u001b[0m\u001b[0mformat\u001b[0m\u001b[1;33m(\u001b[0m\u001b[0mSCOPETYPE\u001b[0m\u001b[1;33m,\u001b[0m \u001b[0mPLATFORM\u001b[0m\u001b[1;33m,\u001b[0m \u001b[0mfile_name_root\u001b[0m\u001b[1;33m)\u001b[0m\u001b[1;33m.\u001b[0m\u001b[0mreplace\u001b[0m\u001b[1;33m(\u001b[0m\u001b[1;34m' '\u001b[0m\u001b[1;33m,\u001b[0m \u001b[1;34m''\u001b[0m\u001b[1;33m)\u001b[0m\u001b[1;33m}\u001b[0m\u001b[1;33m)\u001b[0m\u001b[1;33m\u001b[0m\u001b[1;33m\u001b[0m\u001b[0m\n\u001b[0m\u001b[0;32m    176\u001b[0m         \u001b[0mfile_names\u001b[0m \u001b[1;33m=\u001b[0m \u001b[0mres\u001b[0m\u001b[1;33m[\u001b[0m\u001b[1;34m'outputs'\u001b[0m\u001b[1;33m]\u001b[0m\u001b[1;33m.\u001b[0m\u001b[0mkeys\u001b[0m\u001b[1;33m(\u001b[0m\u001b[1;33m)\u001b[0m\u001b[1;33m\u001b[0m\u001b[1;33m\u001b[0m\u001b[0m\n\u001b[0;32m    177\u001b[0m         \u001b[1;32mfor\u001b[0m \u001b[0mname\u001b[0m \u001b[1;32min\u001b[0m \u001b[0mfile_names\u001b[0m\u001b[1;33m:\u001b[0m\u001b[1;33m\u001b[0m\u001b[1;33m\u001b[0m\u001b[0m\n",
      "\u001b[1;32m~\\WPy64-3771\\python-3.7.7.amd64\\lib\\site-packages\\nbconvert\\exporters\\templateexporter.py\u001b[0m in \u001b[0;36mfrom_notebook_node\u001b[1;34m(self, nb, resources, **kw)\u001b[0m\n\u001b[0;32m    382\u001b[0m \u001b[1;33m\u001b[0m\u001b[0m\n\u001b[0;32m    383\u001b[0m         \u001b[1;31m# Top level variables are passed to the template_exporter here.\u001b[0m\u001b[1;33m\u001b[0m\u001b[1;33m\u001b[0m\u001b[1;33m\u001b[0m\u001b[0m\n\u001b[1;32m--> 384\u001b[1;33m         \u001b[0moutput\u001b[0m \u001b[1;33m=\u001b[0m \u001b[0mself\u001b[0m\u001b[1;33m.\u001b[0m\u001b[0mtemplate\u001b[0m\u001b[1;33m.\u001b[0m\u001b[0mrender\u001b[0m\u001b[1;33m(\u001b[0m\u001b[0mnb\u001b[0m\u001b[1;33m=\u001b[0m\u001b[0mnb_copy\u001b[0m\u001b[1;33m,\u001b[0m \u001b[0mresources\u001b[0m\u001b[1;33m=\u001b[0m\u001b[0mresources\u001b[0m\u001b[1;33m)\u001b[0m\u001b[1;33m\u001b[0m\u001b[1;33m\u001b[0m\u001b[0m\n\u001b[0m\u001b[0;32m    385\u001b[0m         \u001b[0moutput\u001b[0m \u001b[1;33m=\u001b[0m \u001b[0moutput\u001b[0m\u001b[1;33m.\u001b[0m\u001b[0mlstrip\u001b[0m\u001b[1;33m(\u001b[0m\u001b[1;34m'\\r\\n'\u001b[0m\u001b[1;33m)\u001b[0m\u001b[1;33m\u001b[0m\u001b[1;33m\u001b[0m\u001b[0m\n\u001b[0;32m    386\u001b[0m         \u001b[1;32mreturn\u001b[0m \u001b[0moutput\u001b[0m\u001b[1;33m,\u001b[0m \u001b[0mresources\u001b[0m\u001b[1;33m\u001b[0m\u001b[1;33m\u001b[0m\u001b[0m\n",
      "\u001b[1;32m~\\WPy64-3771\\python-3.7.7.amd64\\lib\\site-packages\\nbconvert\\exporters\\templateexporter.py\u001b[0m in \u001b[0;36mtemplate\u001b[1;34m(self)\u001b[0m\n\u001b[0;32m    146\u001b[0m     \u001b[1;32mdef\u001b[0m \u001b[0mtemplate\u001b[0m\u001b[1;33m(\u001b[0m\u001b[0mself\u001b[0m\u001b[1;33m)\u001b[0m\u001b[1;33m:\u001b[0m\u001b[1;33m\u001b[0m\u001b[1;33m\u001b[0m\u001b[0m\n\u001b[0;32m    147\u001b[0m         \u001b[1;32mif\u001b[0m \u001b[0mself\u001b[0m\u001b[1;33m.\u001b[0m\u001b[0m_template_cached\u001b[0m \u001b[1;32mis\u001b[0m \u001b[1;32mNone\u001b[0m\u001b[1;33m:\u001b[0m\u001b[1;33m\u001b[0m\u001b[1;33m\u001b[0m\u001b[0m\n\u001b[1;32m--> 148\u001b[1;33m             \u001b[0mself\u001b[0m\u001b[1;33m.\u001b[0m\u001b[0m_template_cached\u001b[0m \u001b[1;33m=\u001b[0m \u001b[0mself\u001b[0m\u001b[1;33m.\u001b[0m\u001b[0m_load_template\u001b[0m\u001b[1;33m(\u001b[0m\u001b[1;33m)\u001b[0m\u001b[1;33m\u001b[0m\u001b[1;33m\u001b[0m\u001b[0m\n\u001b[0m\u001b[0;32m    149\u001b[0m         \u001b[1;32mreturn\u001b[0m \u001b[0mself\u001b[0m\u001b[1;33m.\u001b[0m\u001b[0m_template_cached\u001b[0m\u001b[1;33m\u001b[0m\u001b[1;33m\u001b[0m\u001b[0m\n\u001b[0;32m    150\u001b[0m \u001b[1;33m\u001b[0m\u001b[0m\n",
      "\u001b[1;32m~\\WPy64-3771\\python-3.7.7.amd64\\lib\\site-packages\\nbconvert\\exporters\\templateexporter.py\u001b[0m in \u001b[0;36m_load_template\u001b[1;34m(self)\u001b[0m\n\u001b[0;32m    353\u001b[0m         \u001b[0mself\u001b[0m\u001b[1;33m.\u001b[0m\u001b[0mlog\u001b[0m\u001b[1;33m.\u001b[0m\u001b[0mdebug\u001b[0m\u001b[1;33m(\u001b[0m\u001b[1;34m\"Attempting to load template %s\"\u001b[0m\u001b[1;33m,\u001b[0m \u001b[0mtemplate_file\u001b[0m\u001b[1;33m)\u001b[0m\u001b[1;33m\u001b[0m\u001b[1;33m\u001b[0m\u001b[0m\n\u001b[0;32m    354\u001b[0m         \u001b[0mself\u001b[0m\u001b[1;33m.\u001b[0m\u001b[0mlog\u001b[0m\u001b[1;33m.\u001b[0m\u001b[0mdebug\u001b[0m\u001b[1;33m(\u001b[0m\u001b[1;34m\"    template_paths: %s\"\u001b[0m\u001b[1;33m,\u001b[0m \u001b[0mos\u001b[0m\u001b[1;33m.\u001b[0m\u001b[0mpathsep\u001b[0m\u001b[1;33m.\u001b[0m\u001b[0mjoin\u001b[0m\u001b[1;33m(\u001b[0m\u001b[0mself\u001b[0m\u001b[1;33m.\u001b[0m\u001b[0mtemplate_paths\u001b[0m\u001b[1;33m)\u001b[0m\u001b[1;33m)\u001b[0m\u001b[1;33m\u001b[0m\u001b[1;33m\u001b[0m\u001b[0m\n\u001b[1;32m--> 355\u001b[1;33m         \u001b[1;32mreturn\u001b[0m \u001b[0mself\u001b[0m\u001b[1;33m.\u001b[0m\u001b[0menvironment\u001b[0m\u001b[1;33m.\u001b[0m\u001b[0mget_template\u001b[0m\u001b[1;33m(\u001b[0m\u001b[0mtemplate_file\u001b[0m\u001b[1;33m)\u001b[0m\u001b[1;33m\u001b[0m\u001b[1;33m\u001b[0m\u001b[0m\n\u001b[0m\u001b[0;32m    356\u001b[0m \u001b[1;33m\u001b[0m\u001b[0m\n\u001b[0;32m    357\u001b[0m     \u001b[1;32mdef\u001b[0m \u001b[0mfrom_notebook_node\u001b[0m\u001b[1;33m(\u001b[0m\u001b[0mself\u001b[0m\u001b[1;33m,\u001b[0m \u001b[0mnb\u001b[0m\u001b[1;33m,\u001b[0m \u001b[0mresources\u001b[0m\u001b[1;33m=\u001b[0m\u001b[1;32mNone\u001b[0m\u001b[1;33m,\u001b[0m \u001b[1;33m**\u001b[0m\u001b[0mkw\u001b[0m\u001b[1;33m)\u001b[0m\u001b[1;33m:\u001b[0m\u001b[1;33m\u001b[0m\u001b[1;33m\u001b[0m\u001b[0m\n",
      "\u001b[1;32m~\\WPy64-3771\\python-3.7.7.amd64\\lib\\site-packages\\jinja2\\environment.py\u001b[0m in \u001b[0;36mget_template\u001b[1;34m(self, name, parent, globals)\u001b[0m\n\u001b[0;32m    881\u001b[0m         \u001b[1;32mif\u001b[0m \u001b[0mparent\u001b[0m \u001b[1;32mis\u001b[0m \u001b[1;32mnot\u001b[0m \u001b[1;32mNone\u001b[0m\u001b[1;33m:\u001b[0m\u001b[1;33m\u001b[0m\u001b[1;33m\u001b[0m\u001b[0m\n\u001b[0;32m    882\u001b[0m             \u001b[0mname\u001b[0m \u001b[1;33m=\u001b[0m \u001b[0mself\u001b[0m\u001b[1;33m.\u001b[0m\u001b[0mjoin_path\u001b[0m\u001b[1;33m(\u001b[0m\u001b[0mname\u001b[0m\u001b[1;33m,\u001b[0m \u001b[0mparent\u001b[0m\u001b[1;33m)\u001b[0m\u001b[1;33m\u001b[0m\u001b[1;33m\u001b[0m\u001b[0m\n\u001b[1;32m--> 883\u001b[1;33m         \u001b[1;32mreturn\u001b[0m \u001b[0mself\u001b[0m\u001b[1;33m.\u001b[0m\u001b[0m_load_template\u001b[0m\u001b[1;33m(\u001b[0m\u001b[0mname\u001b[0m\u001b[1;33m,\u001b[0m \u001b[0mself\u001b[0m\u001b[1;33m.\u001b[0m\u001b[0mmake_globals\u001b[0m\u001b[1;33m(\u001b[0m\u001b[0mglobals\u001b[0m\u001b[1;33m)\u001b[0m\u001b[1;33m)\u001b[0m\u001b[1;33m\u001b[0m\u001b[1;33m\u001b[0m\u001b[0m\n\u001b[0m\u001b[0;32m    884\u001b[0m \u001b[1;33m\u001b[0m\u001b[0m\n\u001b[0;32m    885\u001b[0m     \u001b[1;33m@\u001b[0m\u001b[0minternalcode\u001b[0m\u001b[1;33m\u001b[0m\u001b[1;33m\u001b[0m\u001b[0m\n",
      "\u001b[1;32m~\\WPy64-3771\\python-3.7.7.amd64\\lib\\site-packages\\jinja2\\environment.py\u001b[0m in \u001b[0;36m_load_template\u001b[1;34m(self, name, globals)\u001b[0m\n\u001b[0;32m    855\u001b[0m             ):\n\u001b[0;32m    856\u001b[0m                 \u001b[1;32mreturn\u001b[0m \u001b[0mtemplate\u001b[0m\u001b[1;33m\u001b[0m\u001b[1;33m\u001b[0m\u001b[0m\n\u001b[1;32m--> 857\u001b[1;33m         \u001b[0mtemplate\u001b[0m \u001b[1;33m=\u001b[0m \u001b[0mself\u001b[0m\u001b[1;33m.\u001b[0m\u001b[0mloader\u001b[0m\u001b[1;33m.\u001b[0m\u001b[0mload\u001b[0m\u001b[1;33m(\u001b[0m\u001b[0mself\u001b[0m\u001b[1;33m,\u001b[0m \u001b[0mname\u001b[0m\u001b[1;33m,\u001b[0m \u001b[0mglobals\u001b[0m\u001b[1;33m)\u001b[0m\u001b[1;33m\u001b[0m\u001b[1;33m\u001b[0m\u001b[0m\n\u001b[0m\u001b[0;32m    858\u001b[0m         \u001b[1;32mif\u001b[0m \u001b[0mself\u001b[0m\u001b[1;33m.\u001b[0m\u001b[0mcache\u001b[0m \u001b[1;32mis\u001b[0m \u001b[1;32mnot\u001b[0m \u001b[1;32mNone\u001b[0m\u001b[1;33m:\u001b[0m\u001b[1;33m\u001b[0m\u001b[1;33m\u001b[0m\u001b[0m\n\u001b[0;32m    859\u001b[0m             \u001b[0mself\u001b[0m\u001b[1;33m.\u001b[0m\u001b[0mcache\u001b[0m\u001b[1;33m[\u001b[0m\u001b[0mcache_key\u001b[0m\u001b[1;33m]\u001b[0m \u001b[1;33m=\u001b[0m \u001b[0mtemplate\u001b[0m\u001b[1;33m\u001b[0m\u001b[1;33m\u001b[0m\u001b[0m\n",
      "\u001b[1;32m~\\WPy64-3771\\python-3.7.7.amd64\\lib\\site-packages\\jinja2\\loaders.py\u001b[0m in \u001b[0;36mload\u001b[1;34m(self, environment, name, globals)\u001b[0m\n\u001b[0;32m    427\u001b[0m             \u001b[1;32mexcept\u001b[0m \u001b[0mTemplateNotFound\u001b[0m\u001b[1;33m:\u001b[0m\u001b[1;33m\u001b[0m\u001b[1;33m\u001b[0m\u001b[0m\n\u001b[0;32m    428\u001b[0m                 \u001b[1;32mpass\u001b[0m\u001b[1;33m\u001b[0m\u001b[1;33m\u001b[0m\u001b[0m\n\u001b[1;32m--> 429\u001b[1;33m         \u001b[1;32mraise\u001b[0m \u001b[0mTemplateNotFound\u001b[0m\u001b[1;33m(\u001b[0m\u001b[0mname\u001b[0m\u001b[1;33m)\u001b[0m\u001b[1;33m\u001b[0m\u001b[1;33m\u001b[0m\u001b[0m\n\u001b[0m\u001b[0;32m    430\u001b[0m \u001b[1;33m\u001b[0m\u001b[0m\n\u001b[0;32m    431\u001b[0m     \u001b[1;32mdef\u001b[0m \u001b[0mlist_templates\u001b[0m\u001b[1;33m(\u001b[0m\u001b[0mself\u001b[0m\u001b[1;33m)\u001b[0m\u001b[1;33m:\u001b[0m\u001b[1;33m\u001b[0m\u001b[1;33m\u001b[0m\u001b[0m\n",
      "\u001b[1;31mTemplateNotFound\u001b[0m: rst_extended.tpl"
     ]
    }
   ],
   "source": [
    "# Test SCA101\n",
    "test_notebook('courses/sca101/SOLN_Lab 2_1B - Power Analysis for Password Bypass.ipynb', SCOPETYPE=testscope, PLATFORM=testplat, VERSION=version, SS_VER=ss_ver)\n",
    "print(\"Passed Lab 2_1\")\n",
    "#assert 1 == 2\n",
    "test_notebook('courses/sca101/SOLN_Lab 3_1 - Large Hamming Weight Swings.ipynb', SCOPETYPE=testscope, PLATFORM=testplat, CRYPTO_TARGET=crypt,  VERSION=version, SS_VER=ss_ver)\n",
    "print(\"Passed Lab 3_1\")\n",
    "\n",
    "test_notebook('courses/sca101/SOLN_Lab 3_2 - Recovering Data from a Single Bit.ipynb', SCOPETYPE=testscope, PLATFORM=testplat, CRYPTO_TARGET=crypt,  VERSION=version, SS_VER=ss_ver)\n",
    "print(\"Passed Lab 3_2\")\n",
    "\n",
    "#test_notebook('courses/sca101/SOLN_Lab 3_3 - DPA on Firmware Implementation of AES.ipynb', SCOPETYPE=testscope, PLATFORM=testplat, CRYPTO_TARGET=crypt,  VERSION=version)\n",
    "print(\"Passed Lab 3_3\")\n",
    "\n",
    "test_notebook('courses/sca101/SOLN_Lab 4_1 - Power and Hamming Weight Relationship.ipynb', SCOPETYPE=testscope, PLATFORM=testplat, CRYPTO_TARGET=crypt,  VERSION=version, SS_VER=ss_ver)\n",
    "print(\"Passed Lab 4_1\")\n",
    "\n",
    "test_notebook('courses/sca101/SOLN_Lab 4_2 - CPA on Firmware Implementation of AES.ipynb', SCOPETYPE=testscope, PLATFORM=testplat, CRYPTO_TARGET=crypt,  VERSION=version, SS_VER=ss_ver)\n",
    "print(\"Passed Lab 4_2\")\n",
    "\n",
    "#can't test\n",
    "#test_notebook('courses/sca101/Lab 4_3 - ChipWhisperer Analyzer CPA Attack (MAIN).ipynb', SCOPETYPE=testscope, PLATFORM=testplat, CRYPTO_TARGET=crypt,  VERSION=version)\n",
    "#print(\"Passed Lab 4_3\")"
   ]
  },
  {
   "cell_type": "code",
   "execution_count": 19,
   "metadata": {},
   "outputs": [
    {
     "name": "stdout",
     "output_type": "stream",
     "text": [
      "\n",
      "Testing: C:\\Users\\GC_Lu\\CHIPWH~1\\cw\\home\\portable\\chipwhisperer\\jupyter\\courses\\sca101\\SOLN_Lab 4_2 - CPA on Firmware Implementation of AES.ipynb:...\n",
      "with {'SCOPETYPE': 'OPENADC', 'PLATFORM': 'CWLITEXMEGA', 'CRYPTO_TARGET': 'AVRCRYPTOLIB', 'VERSION': 'HARDWARE', 'SS_VER': 'SS_VER_2_0'}.\n",
      "No serial number specified... only bad if more than one device attached.\n",
      "Inserting allowable_exceptions\n",
      "Inserting SS_VER\n"
     ]
    },
    {
     "ename": "CellExecutionError",
     "evalue": "An error occurred while executing the following cell:\n------------------\nfor bnum in range(16):\n    assert bestguess[bnum] == key[bnum], \\\n    \"Byte {} failed, expected {:02X} got {:02X}\".format(bnum, key[bnum], bestguess[bnum])\nprint(\"✔️ OK to continue!\")\n------------------\n\n\u001b[1;31m---------------------------------------------------------------------------\u001b[0m\n\u001b[1;31mAssertionError\u001b[0m                            Traceback (most recent call last)\n\u001b[1;32m<ipython-input-1-c906bf265601>\u001b[0m in \u001b[0;36m<module>\u001b[1;34m\u001b[0m\n\u001b[0;32m      1\u001b[0m \u001b[1;32mfor\u001b[0m \u001b[0mbnum\u001b[0m \u001b[1;32min\u001b[0m \u001b[0mrange\u001b[0m\u001b[1;33m(\u001b[0m\u001b[1;36m16\u001b[0m\u001b[1;33m)\u001b[0m\u001b[1;33m:\u001b[0m\u001b[1;33m\u001b[0m\u001b[1;33m\u001b[0m\u001b[0m\n\u001b[0;32m      2\u001b[0m     \u001b[1;32massert\u001b[0m \u001b[0mbestguess\u001b[0m\u001b[1;33m[\u001b[0m\u001b[0mbnum\u001b[0m\u001b[1;33m]\u001b[0m \u001b[1;33m==\u001b[0m \u001b[0mkey\u001b[0m\u001b[1;33m[\u001b[0m\u001b[0mbnum\u001b[0m\u001b[1;33m]\u001b[0m\u001b[1;33m,\u001b[0m\u001b[0;31m \u001b[0m\u001b[0;31m\\\u001b[0m\u001b[1;33m\u001b[0m\u001b[1;33m\u001b[0m\u001b[0m\n\u001b[1;32m----> 3\u001b[1;33m     \u001b[1;34m\"Byte {} failed, expected {:02X} got {:02X}\"\u001b[0m\u001b[1;33m.\u001b[0m\u001b[0mformat\u001b[0m\u001b[1;33m(\u001b[0m\u001b[0mbnum\u001b[0m\u001b[1;33m,\u001b[0m \u001b[0mkey\u001b[0m\u001b[1;33m[\u001b[0m\u001b[0mbnum\u001b[0m\u001b[1;33m]\u001b[0m\u001b[1;33m,\u001b[0m \u001b[0mbestguess\u001b[0m\u001b[1;33m[\u001b[0m\u001b[0mbnum\u001b[0m\u001b[1;33m]\u001b[0m\u001b[1;33m)\u001b[0m\u001b[1;33m\u001b[0m\u001b[1;33m\u001b[0m\u001b[0m\n\u001b[0m\u001b[0;32m      4\u001b[0m \u001b[0mprint\u001b[0m\u001b[1;33m(\u001b[0m\u001b[1;34m\"✔️ OK to continue!\"\u001b[0m\u001b[1;33m)\u001b[0m\u001b[1;33m\u001b[0m\u001b[1;33m\u001b[0m\u001b[0m\n\n\u001b[1;31mAssertionError\u001b[0m: Byte 8 failed, expected AB got AA\nAssertionError: Byte 8 failed, expected AB got AA\n",
     "output_type": "error",
     "traceback": [
      "\u001b[1;31m---------------------------------------------------------------------------\u001b[0m",
      "\u001b[1;31mCellExecutionError\u001b[0m                        Traceback (most recent call last)",
      "\u001b[1;32m<ipython-input-19-2d434e4a7c3b>\u001b[0m in \u001b[0;36m<module>\u001b[1;34m\u001b[0m\n\u001b[1;32m----> 1\u001b[1;33m \u001b[0mtest_notebook\u001b[0m\u001b[1;33m(\u001b[0m\u001b[1;34m'courses/sca101/SOLN_Lab 4_2 - CPA on Firmware Implementation of AES.ipynb'\u001b[0m\u001b[1;33m,\u001b[0m \u001b[0mSCOPETYPE\u001b[0m\u001b[1;33m=\u001b[0m\u001b[0mtestscope\u001b[0m\u001b[1;33m,\u001b[0m \u001b[0mPLATFORM\u001b[0m\u001b[1;33m=\u001b[0m\u001b[0mtestplat\u001b[0m\u001b[1;33m,\u001b[0m \u001b[0mCRYPTO_TARGET\u001b[0m\u001b[1;33m=\u001b[0m\u001b[0mcrypt\u001b[0m\u001b[1;33m,\u001b[0m  \u001b[0mVERSION\u001b[0m\u001b[1;33m=\u001b[0m\u001b[0mversion\u001b[0m\u001b[1;33m,\u001b[0m \u001b[0mSS_VER\u001b[0m\u001b[1;33m=\u001b[0m\u001b[0mss_ver\u001b[0m\u001b[1;33m)\u001b[0m\u001b[1;33m\u001b[0m\u001b[1;33m\u001b[0m\u001b[0m\n\u001b[0m\u001b[0;32m      2\u001b[0m \u001b[0mprint\u001b[0m\u001b[1;33m(\u001b[0m\u001b[1;34m\"Passed Lab 4_2\"\u001b[0m\u001b[1;33m)\u001b[0m\u001b[1;33m\u001b[0m\u001b[1;33m\u001b[0m\u001b[0m\n",
      "\u001b[1;32m~\\chipwhisperer\\jupyter\\tests\\tutorials.py\u001b[0m in \u001b[0;36mtest_notebook\u001b[1;34m(nb_path, output_dir, serial_number, export, allow_errors, print_first_traceback_only, print_stdout, print_stderr, allowable_exceptions, baud, **kwargs)\u001b[0m\n\u001b[0;32m    239\u001b[0m     \u001b[1;32melse\u001b[0m\u001b[1;33m:\u001b[0m\u001b[1;33m\u001b[0m\u001b[1;33m\u001b[0m\u001b[0m\n\u001b[0;32m    240\u001b[0m         \u001b[0mprint\u001b[0m\u001b[1;33m(\u001b[0m\u001b[1;34m'No serial number specified... only bad if more than one device attached.'\u001b[0m\u001b[1;33m)\u001b[0m\u001b[1;33m\u001b[0m\u001b[1;33m\u001b[0m\u001b[0m\n\u001b[1;32m--> 241\u001b[1;33m     \u001b[0mnb\u001b[0m\u001b[1;33m,\u001b[0m \u001b[0merrors\u001b[0m\u001b[1;33m,\u001b[0m \u001b[0mexport_kwargs\u001b[0m \u001b[1;33m=\u001b[0m \u001b[0mexecute_notebook\u001b[0m\u001b[1;33m(\u001b[0m\u001b[0mnb_path\u001b[0m\u001b[1;33m,\u001b[0m \u001b[0mserial_number\u001b[0m\u001b[1;33m,\u001b[0m \u001b[0mallow_errors\u001b[0m\u001b[1;33m=\u001b[0m\u001b[0mallow_errors\u001b[0m\u001b[1;33m,\u001b[0m \u001b[0mallowable_exceptions\u001b[0m\u001b[1;33m=\u001b[0m\u001b[0mallowable_exceptions\u001b[0m\u001b[1;33m,\u001b[0m \u001b[0mbaud\u001b[0m\u001b[1;33m=\u001b[0m\u001b[0mbaud\u001b[0m\u001b[1;33m,\u001b[0m \u001b[1;33m**\u001b[0m\u001b[0mkwargs\u001b[0m\u001b[1;33m)\u001b[0m\u001b[1;33m\u001b[0m\u001b[1;33m\u001b[0m\u001b[0m\n\u001b[0m\u001b[0;32m    242\u001b[0m     \u001b[1;32mif\u001b[0m \u001b[1;32mnot\u001b[0m \u001b[0merrors\u001b[0m\u001b[1;33m:\u001b[0m\u001b[1;33m\u001b[0m\u001b[1;33m\u001b[0m\u001b[0m\n\u001b[0;32m    243\u001b[0m         \u001b[0mprint\u001b[0m\u001b[1;33m(\u001b[0m\u001b[1;34m\"PASSED\"\u001b[0m\u001b[1;33m)\u001b[0m\u001b[1;33m\u001b[0m\u001b[1;33m\u001b[0m\u001b[0m\n",
      "\u001b[1;32m~\\chipwhisperer\\jupyter\\tests\\tutorials.py\u001b[0m in \u001b[0;36mexecute_notebook\u001b[1;34m(nb_path, serial_number, baud, allow_errors, SCOPETYPE, PLATFORM, **kwargs)\u001b[0m\n\u001b[0;32m    125\u001b[0m         \u001b[1;32mif\u001b[0m \u001b[0mnotebook_dir\u001b[0m\u001b[1;33m:\u001b[0m\u001b[1;33m\u001b[0m\u001b[1;33m\u001b[0m\u001b[0m\n\u001b[0;32m    126\u001b[0m             \u001b[1;32mwith\u001b[0m \u001b[0mcd\u001b[0m\u001b[1;33m(\u001b[0m\u001b[0mnotebook_dir\u001b[0m\u001b[1;33m)\u001b[0m\u001b[1;33m:\u001b[0m\u001b[1;33m\u001b[0m\u001b[1;33m\u001b[0m\u001b[0m\n\u001b[1;32m--> 127\u001b[1;33m                 \u001b[0mnb\u001b[0m\u001b[1;33m,\u001b[0m \u001b[0mresources\u001b[0m \u001b[1;33m=\u001b[0m \u001b[0mep\u001b[0m\u001b[1;33m.\u001b[0m\u001b[0mpreprocess\u001b[0m\u001b[1;33m(\u001b[0m\u001b[0mnb\u001b[0m\u001b[1;33m,\u001b[0m \u001b[1;33m{\u001b[0m\u001b[1;34m'metadata'\u001b[0m\u001b[1;33m:\u001b[0m \u001b[1;33m{\u001b[0m\u001b[1;34m'path'\u001b[0m\u001b[1;33m:\u001b[0m \u001b[1;34m'./'\u001b[0m\u001b[1;33m}\u001b[0m\u001b[1;33m}\u001b[0m\u001b[1;33m)\u001b[0m\u001b[1;33m\u001b[0m\u001b[1;33m\u001b[0m\u001b[0m\n\u001b[0m\u001b[0;32m    128\u001b[0m         \u001b[1;32melse\u001b[0m\u001b[1;33m:\u001b[0m\u001b[1;33m\u001b[0m\u001b[1;33m\u001b[0m\u001b[0m\n\u001b[0;32m    129\u001b[0m             \u001b[0mnb\u001b[0m\u001b[1;33m,\u001b[0m \u001b[0mresources\u001b[0m \u001b[1;33m=\u001b[0m \u001b[0mep\u001b[0m\u001b[1;33m.\u001b[0m\u001b[0mpreprocess\u001b[0m\u001b[1;33m(\u001b[0m\u001b[0mnb\u001b[0m\u001b[1;33m,\u001b[0m \u001b[1;33m{\u001b[0m\u001b[1;34m'metadata'\u001b[0m\u001b[1;33m:\u001b[0m \u001b[1;33m{\u001b[0m\u001b[1;34m'path'\u001b[0m\u001b[1;33m:\u001b[0m \u001b[1;34m'./'\u001b[0m\u001b[1;33m}\u001b[0m\u001b[1;33m}\u001b[0m\u001b[1;33m)\u001b[0m\u001b[1;33m\u001b[0m\u001b[1;33m\u001b[0m\u001b[0m\n",
      "\u001b[1;32m~\\WPy64-3771\\python-3.7.7.amd64\\lib\\site-packages\\nbconvert\\preprocessors\\execute.py\u001b[0m in \u001b[0;36mpreprocess\u001b[1;34m(self, nb, resources, km)\u001b[0m\n\u001b[0;32m     77\u001b[0m         \u001b[0mNotebookClient\u001b[0m\u001b[1;33m.\u001b[0m\u001b[0m__init__\u001b[0m\u001b[1;33m(\u001b[0m\u001b[0mself\u001b[0m\u001b[1;33m,\u001b[0m \u001b[0mnb\u001b[0m\u001b[1;33m,\u001b[0m \u001b[0mkm\u001b[0m\u001b[1;33m)\u001b[0m\u001b[1;33m\u001b[0m\u001b[1;33m\u001b[0m\u001b[0m\n\u001b[0;32m     78\u001b[0m         \u001b[0mself\u001b[0m\u001b[1;33m.\u001b[0m\u001b[0m_check_assign_resources\u001b[0m\u001b[1;33m(\u001b[0m\u001b[0mresources\u001b[0m\u001b[1;33m)\u001b[0m\u001b[1;33m\u001b[0m\u001b[1;33m\u001b[0m\u001b[0m\n\u001b[1;32m---> 79\u001b[1;33m         \u001b[0mself\u001b[0m\u001b[1;33m.\u001b[0m\u001b[0mexecute\u001b[0m\u001b[1;33m(\u001b[0m\u001b[1;33m)\u001b[0m\u001b[1;33m\u001b[0m\u001b[1;33m\u001b[0m\u001b[0m\n\u001b[0m\u001b[0;32m     80\u001b[0m         \u001b[1;32mreturn\u001b[0m \u001b[0mself\u001b[0m\u001b[1;33m.\u001b[0m\u001b[0mnb\u001b[0m\u001b[1;33m,\u001b[0m \u001b[0mself\u001b[0m\u001b[1;33m.\u001b[0m\u001b[0mresources\u001b[0m\u001b[1;33m\u001b[0m\u001b[1;33m\u001b[0m\u001b[0m\n\u001b[0;32m     81\u001b[0m \u001b[1;33m\u001b[0m\u001b[0m\n",
      "\u001b[1;32m~\\WPy64-3771\\python-3.7.7.amd64\\lib\\site-packages\\nbclient\\util.py\u001b[0m in \u001b[0;36mwrapped\u001b[1;34m(*args, **kwargs)\u001b[0m\n\u001b[0;32m     72\u001b[0m     \"\"\"\n\u001b[0;32m     73\u001b[0m     \u001b[1;32mdef\u001b[0m \u001b[0mwrapped\u001b[0m\u001b[1;33m(\u001b[0m\u001b[1;33m*\u001b[0m\u001b[0margs\u001b[0m\u001b[1;33m,\u001b[0m \u001b[1;33m**\u001b[0m\u001b[0mkwargs\u001b[0m\u001b[1;33m)\u001b[0m\u001b[1;33m:\u001b[0m\u001b[1;33m\u001b[0m\u001b[1;33m\u001b[0m\u001b[0m\n\u001b[1;32m---> 74\u001b[1;33m         \u001b[1;32mreturn\u001b[0m \u001b[0mjust_run\u001b[0m\u001b[1;33m(\u001b[0m\u001b[0mcoro\u001b[0m\u001b[1;33m(\u001b[0m\u001b[1;33m*\u001b[0m\u001b[0margs\u001b[0m\u001b[1;33m,\u001b[0m \u001b[1;33m**\u001b[0m\u001b[0mkwargs\u001b[0m\u001b[1;33m)\u001b[0m\u001b[1;33m)\u001b[0m\u001b[1;33m\u001b[0m\u001b[1;33m\u001b[0m\u001b[0m\n\u001b[0m\u001b[0;32m     75\u001b[0m     \u001b[0mwrapped\u001b[0m\u001b[1;33m.\u001b[0m\u001b[0m__doc__\u001b[0m \u001b[1;33m=\u001b[0m \u001b[0mcoro\u001b[0m\u001b[1;33m.\u001b[0m\u001b[0m__doc__\u001b[0m\u001b[1;33m\u001b[0m\u001b[1;33m\u001b[0m\u001b[0m\n\u001b[0;32m     76\u001b[0m     \u001b[1;32mreturn\u001b[0m \u001b[0mwrapped\u001b[0m\u001b[1;33m\u001b[0m\u001b[1;33m\u001b[0m\u001b[0m\n",
      "\u001b[1;32m~\\WPy64-3771\\python-3.7.7.amd64\\lib\\site-packages\\nbclient\\util.py\u001b[0m in \u001b[0;36mjust_run\u001b[1;34m(coro)\u001b[0m\n\u001b[0;32m     51\u001b[0m         \u001b[0mnest_asyncio\u001b[0m\u001b[1;33m.\u001b[0m\u001b[0mapply\u001b[0m\u001b[1;33m(\u001b[0m\u001b[1;33m)\u001b[0m\u001b[1;33m\u001b[0m\u001b[1;33m\u001b[0m\u001b[0m\n\u001b[0;32m     52\u001b[0m         \u001b[0mcheck_patch_tornado\u001b[0m\u001b[1;33m(\u001b[0m\u001b[1;33m)\u001b[0m\u001b[1;33m\u001b[0m\u001b[1;33m\u001b[0m\u001b[0m\n\u001b[1;32m---> 53\u001b[1;33m     \u001b[1;32mreturn\u001b[0m \u001b[0mloop\u001b[0m\u001b[1;33m.\u001b[0m\u001b[0mrun_until_complete\u001b[0m\u001b[1;33m(\u001b[0m\u001b[0mcoro\u001b[0m\u001b[1;33m)\u001b[0m\u001b[1;33m\u001b[0m\u001b[1;33m\u001b[0m\u001b[0m\n\u001b[0m\u001b[0;32m     54\u001b[0m \u001b[1;33m\u001b[0m\u001b[0m\n\u001b[0;32m     55\u001b[0m \u001b[1;33m\u001b[0m\u001b[0m\n",
      "\u001b[1;32m~\\WPy64-3771\\python-3.7.7.amd64\\lib\\site-packages\\nest_asyncio.py\u001b[0m in \u001b[0;36mrun_until_complete\u001b[1;34m(self, future)\u001b[0m\n\u001b[0;32m     68\u001b[0m                 raise RuntimeError(\n\u001b[0;32m     69\u001b[0m                     'Event loop stopped before Future completed.')\n\u001b[1;32m---> 70\u001b[1;33m             \u001b[1;32mreturn\u001b[0m \u001b[0mf\u001b[0m\u001b[1;33m.\u001b[0m\u001b[0mresult\u001b[0m\u001b[1;33m(\u001b[0m\u001b[1;33m)\u001b[0m\u001b[1;33m\u001b[0m\u001b[1;33m\u001b[0m\u001b[0m\n\u001b[0m\u001b[0;32m     71\u001b[0m \u001b[1;33m\u001b[0m\u001b[0m\n\u001b[0;32m     72\u001b[0m     \u001b[1;32mdef\u001b[0m \u001b[0m_run_once\u001b[0m\u001b[1;33m(\u001b[0m\u001b[0mself\u001b[0m\u001b[1;33m)\u001b[0m\u001b[1;33m:\u001b[0m\u001b[1;33m\u001b[0m\u001b[1;33m\u001b[0m\u001b[0m\n",
      "\u001b[1;32m~\\WPy64-3771\\python-3.7.7.amd64\\lib\\asyncio\\futures.py\u001b[0m in \u001b[0;36mresult\u001b[1;34m(self)\u001b[0m\n\u001b[0;32m    179\u001b[0m         \u001b[0mself\u001b[0m\u001b[1;33m.\u001b[0m\u001b[0m__log_traceback\u001b[0m \u001b[1;33m=\u001b[0m \u001b[1;32mFalse\u001b[0m\u001b[1;33m\u001b[0m\u001b[1;33m\u001b[0m\u001b[0m\n\u001b[0;32m    180\u001b[0m         \u001b[1;32mif\u001b[0m \u001b[0mself\u001b[0m\u001b[1;33m.\u001b[0m\u001b[0m_exception\u001b[0m \u001b[1;32mis\u001b[0m \u001b[1;32mnot\u001b[0m \u001b[1;32mNone\u001b[0m\u001b[1;33m:\u001b[0m\u001b[1;33m\u001b[0m\u001b[1;33m\u001b[0m\u001b[0m\n\u001b[1;32m--> 181\u001b[1;33m             \u001b[1;32mraise\u001b[0m \u001b[0mself\u001b[0m\u001b[1;33m.\u001b[0m\u001b[0m_exception\u001b[0m\u001b[1;33m\u001b[0m\u001b[1;33m\u001b[0m\u001b[0m\n\u001b[0m\u001b[0;32m    182\u001b[0m         \u001b[1;32mreturn\u001b[0m \u001b[0mself\u001b[0m\u001b[1;33m.\u001b[0m\u001b[0m_result\u001b[0m\u001b[1;33m\u001b[0m\u001b[1;33m\u001b[0m\u001b[0m\n\u001b[0;32m    183\u001b[0m \u001b[1;33m\u001b[0m\u001b[0m\n",
      "\u001b[1;32m~\\WPy64-3771\\python-3.7.7.amd64\\lib\\asyncio\\tasks.py\u001b[0m in \u001b[0;36m__step\u001b[1;34m(***failed resolving arguments***)\u001b[0m\n\u001b[0;32m    247\u001b[0m                 \u001b[1;31m# We use the `send` method directly, because coroutines\u001b[0m\u001b[1;33m\u001b[0m\u001b[1;33m\u001b[0m\u001b[1;33m\u001b[0m\u001b[0m\n\u001b[0;32m    248\u001b[0m                 \u001b[1;31m# don't have `__iter__` and `__next__` methods.\u001b[0m\u001b[1;33m\u001b[0m\u001b[1;33m\u001b[0m\u001b[1;33m\u001b[0m\u001b[0m\n\u001b[1;32m--> 249\u001b[1;33m                 \u001b[0mresult\u001b[0m \u001b[1;33m=\u001b[0m \u001b[0mcoro\u001b[0m\u001b[1;33m.\u001b[0m\u001b[0msend\u001b[0m\u001b[1;33m(\u001b[0m\u001b[1;32mNone\u001b[0m\u001b[1;33m)\u001b[0m\u001b[1;33m\u001b[0m\u001b[1;33m\u001b[0m\u001b[0m\n\u001b[0m\u001b[0;32m    250\u001b[0m             \u001b[1;32melse\u001b[0m\u001b[1;33m:\u001b[0m\u001b[1;33m\u001b[0m\u001b[1;33m\u001b[0m\u001b[0m\n\u001b[0;32m    251\u001b[0m                 \u001b[0mresult\u001b[0m \u001b[1;33m=\u001b[0m \u001b[0mcoro\u001b[0m\u001b[1;33m.\u001b[0m\u001b[0mthrow\u001b[0m\u001b[1;33m(\u001b[0m\u001b[0mexc\u001b[0m\u001b[1;33m)\u001b[0m\u001b[1;33m\u001b[0m\u001b[1;33m\u001b[0m\u001b[0m\n",
      "\u001b[1;32m~\\WPy64-3771\\python-3.7.7.amd64\\lib\\site-packages\\nbclient\\client.py\u001b[0m in \u001b[0;36masync_execute\u001b[1;34m(self, reset_kc, **kwargs)\u001b[0m\n\u001b[0;32m    552\u001b[0m                 \u001b[1;31m# when store_history is False\u001b[0m\u001b[1;33m\u001b[0m\u001b[1;33m\u001b[0m\u001b[1;33m\u001b[0m\u001b[0m\n\u001b[0;32m    553\u001b[0m                 await self.async_execute_cell(\n\u001b[1;32m--> 554\u001b[1;33m                     \u001b[0mcell\u001b[0m\u001b[1;33m,\u001b[0m \u001b[0mindex\u001b[0m\u001b[1;33m,\u001b[0m \u001b[0mexecution_count\u001b[0m\u001b[1;33m=\u001b[0m\u001b[0mself\u001b[0m\u001b[1;33m.\u001b[0m\u001b[0mcode_cells_executed\u001b[0m \u001b[1;33m+\u001b[0m \u001b[1;36m1\u001b[0m\u001b[1;33m\u001b[0m\u001b[1;33m\u001b[0m\u001b[0m\n\u001b[0m\u001b[0;32m    555\u001b[0m                 )\n\u001b[0;32m    556\u001b[0m             \u001b[0mself\u001b[0m\u001b[1;33m.\u001b[0m\u001b[0mset_widgets_metadata\u001b[0m\u001b[1;33m(\u001b[0m\u001b[1;33m)\u001b[0m\u001b[1;33m\u001b[0m\u001b[1;33m\u001b[0m\u001b[0m\n",
      "\u001b[1;32m~\\WPy64-3771\\python-3.7.7.amd64\\lib\\site-packages\\nbconvert\\preprocessors\\execute.py\u001b[0m in \u001b[0;36masync_execute_cell\u001b[1;34m(self, cell, cell_index, execution_count, store_history)\u001b[0m\n\u001b[0;32m    121\u001b[0m         \u001b[1;31m# Copied and intercepted to allow for custom preprocess_cell contracts to be fullfilled\u001b[0m\u001b[1;33m\u001b[0m\u001b[1;33m\u001b[0m\u001b[1;33m\u001b[0m\u001b[0m\n\u001b[0;32m    122\u001b[0m         \u001b[0mself\u001b[0m\u001b[1;33m.\u001b[0m\u001b[0mstore_history\u001b[0m \u001b[1;33m=\u001b[0m \u001b[0mstore_history\u001b[0m\u001b[1;33m\u001b[0m\u001b[1;33m\u001b[0m\u001b[0m\n\u001b[1;32m--> 123\u001b[1;33m         \u001b[0mcell\u001b[0m\u001b[1;33m,\u001b[0m \u001b[0mresources\u001b[0m \u001b[1;33m=\u001b[0m \u001b[0mself\u001b[0m\u001b[1;33m.\u001b[0m\u001b[0mpreprocess_cell\u001b[0m\u001b[1;33m(\u001b[0m\u001b[0mcell\u001b[0m\u001b[1;33m,\u001b[0m \u001b[0mself\u001b[0m\u001b[1;33m.\u001b[0m\u001b[0mresources\u001b[0m\u001b[1;33m,\u001b[0m \u001b[0mcell_index\u001b[0m\u001b[1;33m)\u001b[0m\u001b[1;33m\u001b[0m\u001b[1;33m\u001b[0m\u001b[0m\n\u001b[0m\u001b[0;32m    124\u001b[0m         \u001b[1;31m# Apply rules from nbclient for where to apply execution counts\u001b[0m\u001b[1;33m\u001b[0m\u001b[1;33m\u001b[0m\u001b[1;33m\u001b[0m\u001b[0m\n\u001b[0;32m    125\u001b[0m         \u001b[1;32mif\u001b[0m \u001b[0mexecution_count\u001b[0m \u001b[1;32mand\u001b[0m \u001b[0mcell\u001b[0m\u001b[1;33m.\u001b[0m\u001b[0mcell_type\u001b[0m \u001b[1;33m==\u001b[0m \u001b[1;34m'code'\u001b[0m \u001b[1;32mand\u001b[0m \u001b[0mcell\u001b[0m\u001b[1;33m.\u001b[0m\u001b[0msource\u001b[0m\u001b[1;33m.\u001b[0m\u001b[0mstrip\u001b[0m\u001b[1;33m(\u001b[0m\u001b[1;33m)\u001b[0m\u001b[1;33m:\u001b[0m\u001b[1;33m\u001b[0m\u001b[1;33m\u001b[0m\u001b[0m\n",
      "\u001b[1;32m~\\WPy64-3771\\python-3.7.7.amd64\\lib\\site-packages\\nbconvert\\preprocessors\\execute.py\u001b[0m in \u001b[0;36mpreprocess_cell\u001b[1;34m(self, cell, resources, index, **kwargs)\u001b[0m\n\u001b[0;32m    144\u001b[0m         \u001b[0mself\u001b[0m\u001b[1;33m.\u001b[0m\u001b[0m_check_assign_resources\u001b[0m\u001b[1;33m(\u001b[0m\u001b[0mresources\u001b[0m\u001b[1;33m)\u001b[0m\u001b[1;33m\u001b[0m\u001b[1;33m\u001b[0m\u001b[0m\n\u001b[0;32m    145\u001b[0m         \u001b[1;31m# Because nbclient is an async library, we need to wrap the parent async call to generate a syncronous version.\u001b[0m\u001b[1;33m\u001b[0m\u001b[1;33m\u001b[0m\u001b[1;33m\u001b[0m\u001b[0m\n\u001b[1;32m--> 146\u001b[1;33m         \u001b[0mcell\u001b[0m \u001b[1;33m=\u001b[0m \u001b[0mrun_sync\u001b[0m\u001b[1;33m(\u001b[0m\u001b[0mNotebookClient\u001b[0m\u001b[1;33m.\u001b[0m\u001b[0masync_execute_cell\u001b[0m\u001b[1;33m)\u001b[0m\u001b[1;33m(\u001b[0m\u001b[0mself\u001b[0m\u001b[1;33m,\u001b[0m \u001b[0mcell\u001b[0m\u001b[1;33m,\u001b[0m \u001b[0mindex\u001b[0m\u001b[1;33m,\u001b[0m \u001b[0mstore_history\u001b[0m\u001b[1;33m=\u001b[0m\u001b[0mself\u001b[0m\u001b[1;33m.\u001b[0m\u001b[0mstore_history\u001b[0m\u001b[1;33m)\u001b[0m\u001b[1;33m\u001b[0m\u001b[1;33m\u001b[0m\u001b[0m\n\u001b[0m\u001b[0;32m    147\u001b[0m         \u001b[1;32mreturn\u001b[0m \u001b[0mcell\u001b[0m\u001b[1;33m,\u001b[0m \u001b[0mself\u001b[0m\u001b[1;33m.\u001b[0m\u001b[0mresources\u001b[0m\u001b[1;33m\u001b[0m\u001b[1;33m\u001b[0m\u001b[0m\n",
      "\u001b[1;32m~\\WPy64-3771\\python-3.7.7.amd64\\lib\\site-packages\\nbclient\\util.py\u001b[0m in \u001b[0;36mwrapped\u001b[1;34m(*args, **kwargs)\u001b[0m\n\u001b[0;32m     72\u001b[0m     \"\"\"\n\u001b[0;32m     73\u001b[0m     \u001b[1;32mdef\u001b[0m \u001b[0mwrapped\u001b[0m\u001b[1;33m(\u001b[0m\u001b[1;33m*\u001b[0m\u001b[0margs\u001b[0m\u001b[1;33m,\u001b[0m \u001b[1;33m**\u001b[0m\u001b[0mkwargs\u001b[0m\u001b[1;33m)\u001b[0m\u001b[1;33m:\u001b[0m\u001b[1;33m\u001b[0m\u001b[1;33m\u001b[0m\u001b[0m\n\u001b[1;32m---> 74\u001b[1;33m         \u001b[1;32mreturn\u001b[0m \u001b[0mjust_run\u001b[0m\u001b[1;33m(\u001b[0m\u001b[0mcoro\u001b[0m\u001b[1;33m(\u001b[0m\u001b[1;33m*\u001b[0m\u001b[0margs\u001b[0m\u001b[1;33m,\u001b[0m \u001b[1;33m**\u001b[0m\u001b[0mkwargs\u001b[0m\u001b[1;33m)\u001b[0m\u001b[1;33m)\u001b[0m\u001b[1;33m\u001b[0m\u001b[1;33m\u001b[0m\u001b[0m\n\u001b[0m\u001b[0;32m     75\u001b[0m     \u001b[0mwrapped\u001b[0m\u001b[1;33m.\u001b[0m\u001b[0m__doc__\u001b[0m \u001b[1;33m=\u001b[0m \u001b[0mcoro\u001b[0m\u001b[1;33m.\u001b[0m\u001b[0m__doc__\u001b[0m\u001b[1;33m\u001b[0m\u001b[1;33m\u001b[0m\u001b[0m\n\u001b[0;32m     76\u001b[0m     \u001b[1;32mreturn\u001b[0m \u001b[0mwrapped\u001b[0m\u001b[1;33m\u001b[0m\u001b[1;33m\u001b[0m\u001b[0m\n",
      "\u001b[1;32m~\\WPy64-3771\\python-3.7.7.amd64\\lib\\site-packages\\nbclient\\util.py\u001b[0m in \u001b[0;36mjust_run\u001b[1;34m(coro)\u001b[0m\n\u001b[0;32m     51\u001b[0m         \u001b[0mnest_asyncio\u001b[0m\u001b[1;33m.\u001b[0m\u001b[0mapply\u001b[0m\u001b[1;33m(\u001b[0m\u001b[1;33m)\u001b[0m\u001b[1;33m\u001b[0m\u001b[1;33m\u001b[0m\u001b[0m\n\u001b[0;32m     52\u001b[0m         \u001b[0mcheck_patch_tornado\u001b[0m\u001b[1;33m(\u001b[0m\u001b[1;33m)\u001b[0m\u001b[1;33m\u001b[0m\u001b[1;33m\u001b[0m\u001b[0m\n\u001b[1;32m---> 53\u001b[1;33m     \u001b[1;32mreturn\u001b[0m \u001b[0mloop\u001b[0m\u001b[1;33m.\u001b[0m\u001b[0mrun_until_complete\u001b[0m\u001b[1;33m(\u001b[0m\u001b[0mcoro\u001b[0m\u001b[1;33m)\u001b[0m\u001b[1;33m\u001b[0m\u001b[1;33m\u001b[0m\u001b[0m\n\u001b[0m\u001b[0;32m     54\u001b[0m \u001b[1;33m\u001b[0m\u001b[0m\n\u001b[0;32m     55\u001b[0m \u001b[1;33m\u001b[0m\u001b[0m\n",
      "\u001b[1;32m~\\WPy64-3771\\python-3.7.7.amd64\\lib\\site-packages\\nest_asyncio.py\u001b[0m in \u001b[0;36mrun_until_complete\u001b[1;34m(self, future)\u001b[0m\n\u001b[0;32m     68\u001b[0m                 raise RuntimeError(\n\u001b[0;32m     69\u001b[0m                     'Event loop stopped before Future completed.')\n\u001b[1;32m---> 70\u001b[1;33m             \u001b[1;32mreturn\u001b[0m \u001b[0mf\u001b[0m\u001b[1;33m.\u001b[0m\u001b[0mresult\u001b[0m\u001b[1;33m(\u001b[0m\u001b[1;33m)\u001b[0m\u001b[1;33m\u001b[0m\u001b[1;33m\u001b[0m\u001b[0m\n\u001b[0m\u001b[0;32m     71\u001b[0m \u001b[1;33m\u001b[0m\u001b[0m\n\u001b[0;32m     72\u001b[0m     \u001b[1;32mdef\u001b[0m \u001b[0m_run_once\u001b[0m\u001b[1;33m(\u001b[0m\u001b[0mself\u001b[0m\u001b[1;33m)\u001b[0m\u001b[1;33m:\u001b[0m\u001b[1;33m\u001b[0m\u001b[1;33m\u001b[0m\u001b[0m\n",
      "\u001b[1;32m~\\WPy64-3771\\python-3.7.7.amd64\\lib\\asyncio\\futures.py\u001b[0m in \u001b[0;36mresult\u001b[1;34m(self)\u001b[0m\n\u001b[0;32m    179\u001b[0m         \u001b[0mself\u001b[0m\u001b[1;33m.\u001b[0m\u001b[0m__log_traceback\u001b[0m \u001b[1;33m=\u001b[0m \u001b[1;32mFalse\u001b[0m\u001b[1;33m\u001b[0m\u001b[1;33m\u001b[0m\u001b[0m\n\u001b[0;32m    180\u001b[0m         \u001b[1;32mif\u001b[0m \u001b[0mself\u001b[0m\u001b[1;33m.\u001b[0m\u001b[0m_exception\u001b[0m \u001b[1;32mis\u001b[0m \u001b[1;32mnot\u001b[0m \u001b[1;32mNone\u001b[0m\u001b[1;33m:\u001b[0m\u001b[1;33m\u001b[0m\u001b[1;33m\u001b[0m\u001b[0m\n\u001b[1;32m--> 181\u001b[1;33m             \u001b[1;32mraise\u001b[0m \u001b[0mself\u001b[0m\u001b[1;33m.\u001b[0m\u001b[0m_exception\u001b[0m\u001b[1;33m\u001b[0m\u001b[1;33m\u001b[0m\u001b[0m\n\u001b[0m\u001b[0;32m    182\u001b[0m         \u001b[1;32mreturn\u001b[0m \u001b[0mself\u001b[0m\u001b[1;33m.\u001b[0m\u001b[0m_result\u001b[0m\u001b[1;33m\u001b[0m\u001b[1;33m\u001b[0m\u001b[0m\n\u001b[0;32m    183\u001b[0m \u001b[1;33m\u001b[0m\u001b[0m\n",
      "\u001b[1;32m~\\WPy64-3771\\python-3.7.7.amd64\\lib\\asyncio\\tasks.py\u001b[0m in \u001b[0;36m__step\u001b[1;34m(***failed resolving arguments***)\u001b[0m\n\u001b[0;32m    247\u001b[0m                 \u001b[1;31m# We use the `send` method directly, because coroutines\u001b[0m\u001b[1;33m\u001b[0m\u001b[1;33m\u001b[0m\u001b[1;33m\u001b[0m\u001b[0m\n\u001b[0;32m    248\u001b[0m                 \u001b[1;31m# don't have `__iter__` and `__next__` methods.\u001b[0m\u001b[1;33m\u001b[0m\u001b[1;33m\u001b[0m\u001b[1;33m\u001b[0m\u001b[0m\n\u001b[1;32m--> 249\u001b[1;33m                 \u001b[0mresult\u001b[0m \u001b[1;33m=\u001b[0m \u001b[0mcoro\u001b[0m\u001b[1;33m.\u001b[0m\u001b[0msend\u001b[0m\u001b[1;33m(\u001b[0m\u001b[1;32mNone\u001b[0m\u001b[1;33m)\u001b[0m\u001b[1;33m\u001b[0m\u001b[1;33m\u001b[0m\u001b[0m\n\u001b[0m\u001b[0;32m    250\u001b[0m             \u001b[1;32melse\u001b[0m\u001b[1;33m:\u001b[0m\u001b[1;33m\u001b[0m\u001b[1;33m\u001b[0m\u001b[0m\n\u001b[0;32m    251\u001b[0m                 \u001b[0mresult\u001b[0m \u001b[1;33m=\u001b[0m \u001b[0mcoro\u001b[0m\u001b[1;33m.\u001b[0m\u001b[0mthrow\u001b[0m\u001b[1;33m(\u001b[0m\u001b[0mexc\u001b[0m\u001b[1;33m)\u001b[0m\u001b[1;33m\u001b[0m\u001b[1;33m\u001b[0m\u001b[0m\n",
      "\u001b[1;32m~\\WPy64-3771\\python-3.7.7.amd64\\lib\\site-packages\\nbclient\\client.py\u001b[0m in \u001b[0;36masync_execute_cell\u001b[1;34m(self, cell, cell_index, execution_count, store_history)\u001b[0m\n\u001b[0;32m    855\u001b[0m         \u001b[1;32mif\u001b[0m \u001b[0mexecution_count\u001b[0m\u001b[1;33m:\u001b[0m\u001b[1;33m\u001b[0m\u001b[1;33m\u001b[0m\u001b[0m\n\u001b[0;32m    856\u001b[0m             \u001b[0mcell\u001b[0m\u001b[1;33m[\u001b[0m\u001b[1;34m'execution_count'\u001b[0m\u001b[1;33m]\u001b[0m \u001b[1;33m=\u001b[0m \u001b[0mexecution_count\u001b[0m\u001b[1;33m\u001b[0m\u001b[1;33m\u001b[0m\u001b[0m\n\u001b[1;32m--> 857\u001b[1;33m         \u001b[0mself\u001b[0m\u001b[1;33m.\u001b[0m\u001b[0m_check_raise_for_error\u001b[0m\u001b[1;33m(\u001b[0m\u001b[0mcell\u001b[0m\u001b[1;33m,\u001b[0m \u001b[0mexec_reply\u001b[0m\u001b[1;33m)\u001b[0m\u001b[1;33m\u001b[0m\u001b[1;33m\u001b[0m\u001b[0m\n\u001b[0m\u001b[0;32m    858\u001b[0m         \u001b[0mself\u001b[0m\u001b[1;33m.\u001b[0m\u001b[0mnb\u001b[0m\u001b[1;33m[\u001b[0m\u001b[1;34m'cells'\u001b[0m\u001b[1;33m]\u001b[0m\u001b[1;33m[\u001b[0m\u001b[0mcell_index\u001b[0m\u001b[1;33m]\u001b[0m \u001b[1;33m=\u001b[0m \u001b[0mcell\u001b[0m\u001b[1;33m\u001b[0m\u001b[1;33m\u001b[0m\u001b[0m\n\u001b[0;32m    859\u001b[0m         \u001b[1;32mreturn\u001b[0m \u001b[0mcell\u001b[0m\u001b[1;33m\u001b[0m\u001b[1;33m\u001b[0m\u001b[0m\n",
      "\u001b[1;32m~\\WPy64-3771\\python-3.7.7.amd64\\lib\\site-packages\\nbclient\\client.py\u001b[0m in \u001b[0;36m_check_raise_for_error\u001b[1;34m(self, cell, exec_reply)\u001b[0m\n\u001b[0;32m    758\u001b[0m \u001b[1;33m\u001b[0m\u001b[0m\n\u001b[0;32m    759\u001b[0m         \u001b[1;32mif\u001b[0m \u001b[1;32mnot\u001b[0m \u001b[0mcell_allows_errors\u001b[0m\u001b[1;33m:\u001b[0m\u001b[1;33m\u001b[0m\u001b[1;33m\u001b[0m\u001b[0m\n\u001b[1;32m--> 760\u001b[1;33m             \u001b[1;32mraise\u001b[0m \u001b[0mCellExecutionError\u001b[0m\u001b[1;33m.\u001b[0m\u001b[0mfrom_cell_and_msg\u001b[0m\u001b[1;33m(\u001b[0m\u001b[0mcell\u001b[0m\u001b[1;33m,\u001b[0m \u001b[0mexec_reply_content\u001b[0m\u001b[1;33m)\u001b[0m\u001b[1;33m\u001b[0m\u001b[1;33m\u001b[0m\u001b[0m\n\u001b[0m\u001b[0;32m    761\u001b[0m \u001b[1;33m\u001b[0m\u001b[0m\n\u001b[0;32m    762\u001b[0m     async def async_execute_cell(\n",
      "\u001b[1;31mCellExecutionError\u001b[0m: An error occurred while executing the following cell:\n------------------\nfor bnum in range(16):\n    assert bestguess[bnum] == key[bnum], \\\n    \"Byte {} failed, expected {:02X} got {:02X}\".format(bnum, key[bnum], bestguess[bnum])\nprint(\"✔️ OK to continue!\")\n------------------\n\n\u001b[1;31m---------------------------------------------------------------------------\u001b[0m\n\u001b[1;31mAssertionError\u001b[0m                            Traceback (most recent call last)\n\u001b[1;32m<ipython-input-1-c906bf265601>\u001b[0m in \u001b[0;36m<module>\u001b[1;34m\u001b[0m\n\u001b[0;32m      1\u001b[0m \u001b[1;32mfor\u001b[0m \u001b[0mbnum\u001b[0m \u001b[1;32min\u001b[0m \u001b[0mrange\u001b[0m\u001b[1;33m(\u001b[0m\u001b[1;36m16\u001b[0m\u001b[1;33m)\u001b[0m\u001b[1;33m:\u001b[0m\u001b[1;33m\u001b[0m\u001b[1;33m\u001b[0m\u001b[0m\n\u001b[0;32m      2\u001b[0m     \u001b[1;32massert\u001b[0m \u001b[0mbestguess\u001b[0m\u001b[1;33m[\u001b[0m\u001b[0mbnum\u001b[0m\u001b[1;33m]\u001b[0m \u001b[1;33m==\u001b[0m \u001b[0mkey\u001b[0m\u001b[1;33m[\u001b[0m\u001b[0mbnum\u001b[0m\u001b[1;33m]\u001b[0m\u001b[1;33m,\u001b[0m\u001b[0;31m \u001b[0m\u001b[0;31m\\\u001b[0m\u001b[1;33m\u001b[0m\u001b[1;33m\u001b[0m\u001b[0m\n\u001b[1;32m----> 3\u001b[1;33m     \u001b[1;34m\"Byte {} failed, expected {:02X} got {:02X}\"\u001b[0m\u001b[1;33m.\u001b[0m\u001b[0mformat\u001b[0m\u001b[1;33m(\u001b[0m\u001b[0mbnum\u001b[0m\u001b[1;33m,\u001b[0m \u001b[0mkey\u001b[0m\u001b[1;33m[\u001b[0m\u001b[0mbnum\u001b[0m\u001b[1;33m]\u001b[0m\u001b[1;33m,\u001b[0m \u001b[0mbestguess\u001b[0m\u001b[1;33m[\u001b[0m\u001b[0mbnum\u001b[0m\u001b[1;33m]\u001b[0m\u001b[1;33m)\u001b[0m\u001b[1;33m\u001b[0m\u001b[1;33m\u001b[0m\u001b[0m\n\u001b[0m\u001b[0;32m      4\u001b[0m \u001b[0mprint\u001b[0m\u001b[1;33m(\u001b[0m\u001b[1;34m\"✔️ OK to continue!\"\u001b[0m\u001b[1;33m)\u001b[0m\u001b[1;33m\u001b[0m\u001b[1;33m\u001b[0m\u001b[0m\n\n\u001b[1;31mAssertionError\u001b[0m: Byte 8 failed, expected AB got AA\nAssertionError: Byte 8 failed, expected AB got AA\n"
     ]
    }
   ],
   "source": [
    "test_notebook('courses/sca101/SOLN_Lab 4_2 - CPA on Firmware Implementation of AES.ipynb', SCOPETYPE=testscope, PLATFORM=testplat, CRYPTO_TARGET=crypt,  VERSION=version, SS_VER=ss_ver)\n",
    "print(\"Passed Lab 4_2\")"
   ]
  },
  {
   "cell_type": "code",
   "execution_count": 20,
   "metadata": {},
   "outputs": [
    {
     "name": "stdout",
     "output_type": "stream",
     "text": [
      "\n",
      "Testing: C:\\Users\\GC_Lu\\CHIPWH~1\\cw\\home\\portable\\chipwhisperer\\jupyter\\courses\\sca101\\SOLN_Lab 3_3 - DPA on Firmware Implementation of AES.ipynb:...\n",
      "with {'SCOPETYPE': 'OPENADC', 'PLATFORM': 'CWLITEXMEGA', 'CRYPTO_TARGET': 'AVRCRYPTOLIB', 'VERSION': 'HARDWARE'}.\n",
      "No serial number specified... only bad if more than one device attached.\n",
      "Inserting allowable_exceptions\n",
      "PASSED\n"
     ]
    },
    {
     "ename": "TemplateNotFound",
     "evalue": "rst_extended.tpl",
     "output_type": "error",
     "traceback": [
      "\u001b[1;31m---------------------------------------------------------------------------\u001b[0m",
      "\u001b[1;31mTemplateNotFound\u001b[0m                          Traceback (most recent call last)",
      "\u001b[1;32m<ipython-input-20-e2ca741ff8b4>\u001b[0m in \u001b[0;36m<module>\u001b[1;34m\u001b[0m\n\u001b[1;32m----> 1\u001b[1;33m \u001b[0mtest_notebook\u001b[0m\u001b[1;33m(\u001b[0m\u001b[1;34m'courses/sca101/SOLN_Lab 3_3 - DPA on Firmware Implementation of AES.ipynb'\u001b[0m\u001b[1;33m,\u001b[0m \u001b[0mSCOPETYPE\u001b[0m\u001b[1;33m=\u001b[0m\u001b[0mtestscope\u001b[0m\u001b[1;33m,\u001b[0m \u001b[0mPLATFORM\u001b[0m\u001b[1;33m=\u001b[0m\u001b[0mtestplat\u001b[0m\u001b[1;33m,\u001b[0m \u001b[0mCRYPTO_TARGET\u001b[0m\u001b[1;33m=\u001b[0m\u001b[0mcrypt\u001b[0m\u001b[1;33m,\u001b[0m  \u001b[0mVERSION\u001b[0m\u001b[1;33m=\u001b[0m\u001b[0mversion\u001b[0m\u001b[1;33m)\u001b[0m\u001b[1;33m\u001b[0m\u001b[1;33m\u001b[0m\u001b[0m\n\u001b[0m",
      "\u001b[1;32m~\\chipwhisperer\\jupyter\\tests\\tutorials.py\u001b[0m in \u001b[0;36mtest_notebook\u001b[1;34m(nb_path, output_dir, serial_number, export, allow_errors, print_first_traceback_only, print_stdout, print_stderr, allowable_exceptions, baud, **kwargs)\u001b[0m\n\u001b[0;32m    244\u001b[0m         \u001b[0mpassed\u001b[0m \u001b[1;33m=\u001b[0m \u001b[1;32mTrue\u001b[0m\u001b[1;33m\u001b[0m\u001b[1;33m\u001b[0m\u001b[0m\n\u001b[0;32m    245\u001b[0m         \u001b[1;32mif\u001b[0m \u001b[0mexport\u001b[0m\u001b[1;33m:\u001b[0m\u001b[1;33m\u001b[0m\u001b[1;33m\u001b[0m\u001b[0m\n\u001b[1;32m--> 246\u001b[1;33m             \u001b[0mexport_notebook\u001b[0m\u001b[1;33m(\u001b[0m\u001b[0mnb\u001b[0m\u001b[1;33m,\u001b[0m \u001b[0mnb_path\u001b[0m\u001b[1;33m,\u001b[0m \u001b[0moutput_dir\u001b[0m\u001b[1;33m,\u001b[0m \u001b[1;33m**\u001b[0m\u001b[0mexport_kwargs\u001b[0m\u001b[1;33m)\u001b[0m\u001b[1;33m\u001b[0m\u001b[1;33m\u001b[0m\u001b[0m\n\u001b[0m\u001b[0;32m    247\u001b[0m     \u001b[1;32melse\u001b[0m\u001b[1;33m:\u001b[0m\u001b[1;33m\u001b[0m\u001b[1;33m\u001b[0m\u001b[0m\n\u001b[0;32m    248\u001b[0m         \u001b[1;32mif\u001b[0m \u001b[0mallowable_exceptions\u001b[0m\u001b[1;33m:\u001b[0m\u001b[1;33m\u001b[0m\u001b[1;33m\u001b[0m\u001b[0m\n",
      "\u001b[1;32m~\\chipwhisperer\\jupyter\\tests\\tutorials.py\u001b[0m in \u001b[0;36mexport_notebook\u001b[1;34m(nb, nb_path, output_dir, SCOPETYPE, PLATFORM)\u001b[0m\n\u001b[0;32m    173\u001b[0m \u001b[1;33m\u001b[0m\u001b[0m\n\u001b[0;32m    174\u001b[0m \u001b[1;33m\u001b[0m\u001b[0m\n\u001b[1;32m--> 175\u001b[1;33m         \u001b[0mbody\u001b[0m\u001b[1;33m,\u001b[0m \u001b[0mres\u001b[0m \u001b[1;33m=\u001b[0m \u001b[0mrst_exporter\u001b[0m\u001b[1;33m.\u001b[0m\u001b[0mfrom_notebook_node\u001b[0m\u001b[1;33m(\u001b[0m\u001b[0mrst_ready_nb\u001b[0m\u001b[1;33m,\u001b[0m \u001b[0mresources\u001b[0m\u001b[1;33m=\u001b[0m\u001b[1;33m{\u001b[0m\u001b[1;34m'unique_key'\u001b[0m\u001b[1;33m:\u001b[0m \u001b[1;34m'img/{}-{}-{}'\u001b[0m\u001b[1;33m.\u001b[0m\u001b[0mformat\u001b[0m\u001b[1;33m(\u001b[0m\u001b[0mSCOPETYPE\u001b[0m\u001b[1;33m,\u001b[0m \u001b[0mPLATFORM\u001b[0m\u001b[1;33m,\u001b[0m \u001b[0mfile_name_root\u001b[0m\u001b[1;33m)\u001b[0m\u001b[1;33m.\u001b[0m\u001b[0mreplace\u001b[0m\u001b[1;33m(\u001b[0m\u001b[1;34m' '\u001b[0m\u001b[1;33m,\u001b[0m \u001b[1;34m''\u001b[0m\u001b[1;33m)\u001b[0m\u001b[1;33m}\u001b[0m\u001b[1;33m)\u001b[0m\u001b[1;33m\u001b[0m\u001b[1;33m\u001b[0m\u001b[0m\n\u001b[0m\u001b[0;32m    176\u001b[0m         \u001b[0mfile_names\u001b[0m \u001b[1;33m=\u001b[0m \u001b[0mres\u001b[0m\u001b[1;33m[\u001b[0m\u001b[1;34m'outputs'\u001b[0m\u001b[1;33m]\u001b[0m\u001b[1;33m.\u001b[0m\u001b[0mkeys\u001b[0m\u001b[1;33m(\u001b[0m\u001b[1;33m)\u001b[0m\u001b[1;33m\u001b[0m\u001b[1;33m\u001b[0m\u001b[0m\n\u001b[0;32m    177\u001b[0m         \u001b[1;32mfor\u001b[0m \u001b[0mname\u001b[0m \u001b[1;32min\u001b[0m \u001b[0mfile_names\u001b[0m\u001b[1;33m:\u001b[0m\u001b[1;33m\u001b[0m\u001b[1;33m\u001b[0m\u001b[0m\n",
      "\u001b[1;32m~\\WPy64-3771\\python-3.7.7.amd64\\lib\\site-packages\\nbconvert\\exporters\\templateexporter.py\u001b[0m in \u001b[0;36mfrom_notebook_node\u001b[1;34m(self, nb, resources, **kw)\u001b[0m\n\u001b[0;32m    382\u001b[0m \u001b[1;33m\u001b[0m\u001b[0m\n\u001b[0;32m    383\u001b[0m         \u001b[1;31m# Top level variables are passed to the template_exporter here.\u001b[0m\u001b[1;33m\u001b[0m\u001b[1;33m\u001b[0m\u001b[1;33m\u001b[0m\u001b[0m\n\u001b[1;32m--> 384\u001b[1;33m         \u001b[0moutput\u001b[0m \u001b[1;33m=\u001b[0m \u001b[0mself\u001b[0m\u001b[1;33m.\u001b[0m\u001b[0mtemplate\u001b[0m\u001b[1;33m.\u001b[0m\u001b[0mrender\u001b[0m\u001b[1;33m(\u001b[0m\u001b[0mnb\u001b[0m\u001b[1;33m=\u001b[0m\u001b[0mnb_copy\u001b[0m\u001b[1;33m,\u001b[0m \u001b[0mresources\u001b[0m\u001b[1;33m=\u001b[0m\u001b[0mresources\u001b[0m\u001b[1;33m)\u001b[0m\u001b[1;33m\u001b[0m\u001b[1;33m\u001b[0m\u001b[0m\n\u001b[0m\u001b[0;32m    385\u001b[0m         \u001b[0moutput\u001b[0m \u001b[1;33m=\u001b[0m \u001b[0moutput\u001b[0m\u001b[1;33m.\u001b[0m\u001b[0mlstrip\u001b[0m\u001b[1;33m(\u001b[0m\u001b[1;34m'\\r\\n'\u001b[0m\u001b[1;33m)\u001b[0m\u001b[1;33m\u001b[0m\u001b[1;33m\u001b[0m\u001b[0m\n\u001b[0;32m    386\u001b[0m         \u001b[1;32mreturn\u001b[0m \u001b[0moutput\u001b[0m\u001b[1;33m,\u001b[0m \u001b[0mresources\u001b[0m\u001b[1;33m\u001b[0m\u001b[1;33m\u001b[0m\u001b[0m\n",
      "\u001b[1;32m~\\WPy64-3771\\python-3.7.7.amd64\\lib\\site-packages\\nbconvert\\exporters\\templateexporter.py\u001b[0m in \u001b[0;36mtemplate\u001b[1;34m(self)\u001b[0m\n\u001b[0;32m    146\u001b[0m     \u001b[1;32mdef\u001b[0m \u001b[0mtemplate\u001b[0m\u001b[1;33m(\u001b[0m\u001b[0mself\u001b[0m\u001b[1;33m)\u001b[0m\u001b[1;33m:\u001b[0m\u001b[1;33m\u001b[0m\u001b[1;33m\u001b[0m\u001b[0m\n\u001b[0;32m    147\u001b[0m         \u001b[1;32mif\u001b[0m \u001b[0mself\u001b[0m\u001b[1;33m.\u001b[0m\u001b[0m_template_cached\u001b[0m \u001b[1;32mis\u001b[0m \u001b[1;32mNone\u001b[0m\u001b[1;33m:\u001b[0m\u001b[1;33m\u001b[0m\u001b[1;33m\u001b[0m\u001b[0m\n\u001b[1;32m--> 148\u001b[1;33m             \u001b[0mself\u001b[0m\u001b[1;33m.\u001b[0m\u001b[0m_template_cached\u001b[0m \u001b[1;33m=\u001b[0m \u001b[0mself\u001b[0m\u001b[1;33m.\u001b[0m\u001b[0m_load_template\u001b[0m\u001b[1;33m(\u001b[0m\u001b[1;33m)\u001b[0m\u001b[1;33m\u001b[0m\u001b[1;33m\u001b[0m\u001b[0m\n\u001b[0m\u001b[0;32m    149\u001b[0m         \u001b[1;32mreturn\u001b[0m \u001b[0mself\u001b[0m\u001b[1;33m.\u001b[0m\u001b[0m_template_cached\u001b[0m\u001b[1;33m\u001b[0m\u001b[1;33m\u001b[0m\u001b[0m\n\u001b[0;32m    150\u001b[0m \u001b[1;33m\u001b[0m\u001b[0m\n",
      "\u001b[1;32m~\\WPy64-3771\\python-3.7.7.amd64\\lib\\site-packages\\nbconvert\\exporters\\templateexporter.py\u001b[0m in \u001b[0;36m_load_template\u001b[1;34m(self)\u001b[0m\n\u001b[0;32m    353\u001b[0m         \u001b[0mself\u001b[0m\u001b[1;33m.\u001b[0m\u001b[0mlog\u001b[0m\u001b[1;33m.\u001b[0m\u001b[0mdebug\u001b[0m\u001b[1;33m(\u001b[0m\u001b[1;34m\"Attempting to load template %s\"\u001b[0m\u001b[1;33m,\u001b[0m \u001b[0mtemplate_file\u001b[0m\u001b[1;33m)\u001b[0m\u001b[1;33m\u001b[0m\u001b[1;33m\u001b[0m\u001b[0m\n\u001b[0;32m    354\u001b[0m         \u001b[0mself\u001b[0m\u001b[1;33m.\u001b[0m\u001b[0mlog\u001b[0m\u001b[1;33m.\u001b[0m\u001b[0mdebug\u001b[0m\u001b[1;33m(\u001b[0m\u001b[1;34m\"    template_paths: %s\"\u001b[0m\u001b[1;33m,\u001b[0m \u001b[0mos\u001b[0m\u001b[1;33m.\u001b[0m\u001b[0mpathsep\u001b[0m\u001b[1;33m.\u001b[0m\u001b[0mjoin\u001b[0m\u001b[1;33m(\u001b[0m\u001b[0mself\u001b[0m\u001b[1;33m.\u001b[0m\u001b[0mtemplate_paths\u001b[0m\u001b[1;33m)\u001b[0m\u001b[1;33m)\u001b[0m\u001b[1;33m\u001b[0m\u001b[1;33m\u001b[0m\u001b[0m\n\u001b[1;32m--> 355\u001b[1;33m         \u001b[1;32mreturn\u001b[0m \u001b[0mself\u001b[0m\u001b[1;33m.\u001b[0m\u001b[0menvironment\u001b[0m\u001b[1;33m.\u001b[0m\u001b[0mget_template\u001b[0m\u001b[1;33m(\u001b[0m\u001b[0mtemplate_file\u001b[0m\u001b[1;33m)\u001b[0m\u001b[1;33m\u001b[0m\u001b[1;33m\u001b[0m\u001b[0m\n\u001b[0m\u001b[0;32m    356\u001b[0m \u001b[1;33m\u001b[0m\u001b[0m\n\u001b[0;32m    357\u001b[0m     \u001b[1;32mdef\u001b[0m \u001b[0mfrom_notebook_node\u001b[0m\u001b[1;33m(\u001b[0m\u001b[0mself\u001b[0m\u001b[1;33m,\u001b[0m \u001b[0mnb\u001b[0m\u001b[1;33m,\u001b[0m \u001b[0mresources\u001b[0m\u001b[1;33m=\u001b[0m\u001b[1;32mNone\u001b[0m\u001b[1;33m,\u001b[0m \u001b[1;33m**\u001b[0m\u001b[0mkw\u001b[0m\u001b[1;33m)\u001b[0m\u001b[1;33m:\u001b[0m\u001b[1;33m\u001b[0m\u001b[1;33m\u001b[0m\u001b[0m\n",
      "\u001b[1;32m~\\WPy64-3771\\python-3.7.7.amd64\\lib\\site-packages\\jinja2\\environment.py\u001b[0m in \u001b[0;36mget_template\u001b[1;34m(self, name, parent, globals)\u001b[0m\n\u001b[0;32m    881\u001b[0m         \u001b[1;32mif\u001b[0m \u001b[0mparent\u001b[0m \u001b[1;32mis\u001b[0m \u001b[1;32mnot\u001b[0m \u001b[1;32mNone\u001b[0m\u001b[1;33m:\u001b[0m\u001b[1;33m\u001b[0m\u001b[1;33m\u001b[0m\u001b[0m\n\u001b[0;32m    882\u001b[0m             \u001b[0mname\u001b[0m \u001b[1;33m=\u001b[0m \u001b[0mself\u001b[0m\u001b[1;33m.\u001b[0m\u001b[0mjoin_path\u001b[0m\u001b[1;33m(\u001b[0m\u001b[0mname\u001b[0m\u001b[1;33m,\u001b[0m \u001b[0mparent\u001b[0m\u001b[1;33m)\u001b[0m\u001b[1;33m\u001b[0m\u001b[1;33m\u001b[0m\u001b[0m\n\u001b[1;32m--> 883\u001b[1;33m         \u001b[1;32mreturn\u001b[0m \u001b[0mself\u001b[0m\u001b[1;33m.\u001b[0m\u001b[0m_load_template\u001b[0m\u001b[1;33m(\u001b[0m\u001b[0mname\u001b[0m\u001b[1;33m,\u001b[0m \u001b[0mself\u001b[0m\u001b[1;33m.\u001b[0m\u001b[0mmake_globals\u001b[0m\u001b[1;33m(\u001b[0m\u001b[0mglobals\u001b[0m\u001b[1;33m)\u001b[0m\u001b[1;33m)\u001b[0m\u001b[1;33m\u001b[0m\u001b[1;33m\u001b[0m\u001b[0m\n\u001b[0m\u001b[0;32m    884\u001b[0m \u001b[1;33m\u001b[0m\u001b[0m\n\u001b[0;32m    885\u001b[0m     \u001b[1;33m@\u001b[0m\u001b[0minternalcode\u001b[0m\u001b[1;33m\u001b[0m\u001b[1;33m\u001b[0m\u001b[0m\n",
      "\u001b[1;32m~\\WPy64-3771\\python-3.7.7.amd64\\lib\\site-packages\\jinja2\\environment.py\u001b[0m in \u001b[0;36m_load_template\u001b[1;34m(self, name, globals)\u001b[0m\n\u001b[0;32m    855\u001b[0m             ):\n\u001b[0;32m    856\u001b[0m                 \u001b[1;32mreturn\u001b[0m \u001b[0mtemplate\u001b[0m\u001b[1;33m\u001b[0m\u001b[1;33m\u001b[0m\u001b[0m\n\u001b[1;32m--> 857\u001b[1;33m         \u001b[0mtemplate\u001b[0m \u001b[1;33m=\u001b[0m \u001b[0mself\u001b[0m\u001b[1;33m.\u001b[0m\u001b[0mloader\u001b[0m\u001b[1;33m.\u001b[0m\u001b[0mload\u001b[0m\u001b[1;33m(\u001b[0m\u001b[0mself\u001b[0m\u001b[1;33m,\u001b[0m \u001b[0mname\u001b[0m\u001b[1;33m,\u001b[0m \u001b[0mglobals\u001b[0m\u001b[1;33m)\u001b[0m\u001b[1;33m\u001b[0m\u001b[1;33m\u001b[0m\u001b[0m\n\u001b[0m\u001b[0;32m    858\u001b[0m         \u001b[1;32mif\u001b[0m \u001b[0mself\u001b[0m\u001b[1;33m.\u001b[0m\u001b[0mcache\u001b[0m \u001b[1;32mis\u001b[0m \u001b[1;32mnot\u001b[0m \u001b[1;32mNone\u001b[0m\u001b[1;33m:\u001b[0m\u001b[1;33m\u001b[0m\u001b[1;33m\u001b[0m\u001b[0m\n\u001b[0;32m    859\u001b[0m             \u001b[0mself\u001b[0m\u001b[1;33m.\u001b[0m\u001b[0mcache\u001b[0m\u001b[1;33m[\u001b[0m\u001b[0mcache_key\u001b[0m\u001b[1;33m]\u001b[0m \u001b[1;33m=\u001b[0m \u001b[0mtemplate\u001b[0m\u001b[1;33m\u001b[0m\u001b[1;33m\u001b[0m\u001b[0m\n",
      "\u001b[1;32m~\\WPy64-3771\\python-3.7.7.amd64\\lib\\site-packages\\jinja2\\loaders.py\u001b[0m in \u001b[0;36mload\u001b[1;34m(self, environment, name, globals)\u001b[0m\n\u001b[0;32m    427\u001b[0m             \u001b[1;32mexcept\u001b[0m \u001b[0mTemplateNotFound\u001b[0m\u001b[1;33m:\u001b[0m\u001b[1;33m\u001b[0m\u001b[1;33m\u001b[0m\u001b[0m\n\u001b[0;32m    428\u001b[0m                 \u001b[1;32mpass\u001b[0m\u001b[1;33m\u001b[0m\u001b[1;33m\u001b[0m\u001b[0m\n\u001b[1;32m--> 429\u001b[1;33m         \u001b[1;32mraise\u001b[0m \u001b[0mTemplateNotFound\u001b[0m\u001b[1;33m(\u001b[0m\u001b[0mname\u001b[0m\u001b[1;33m)\u001b[0m\u001b[1;33m\u001b[0m\u001b[1;33m\u001b[0m\u001b[0m\n\u001b[0m\u001b[0;32m    430\u001b[0m \u001b[1;33m\u001b[0m\u001b[0m\n\u001b[0;32m    431\u001b[0m     \u001b[1;32mdef\u001b[0m \u001b[0mlist_templates\u001b[0m\u001b[1;33m(\u001b[0m\u001b[0mself\u001b[0m\u001b[1;33m)\u001b[0m\u001b[1;33m:\u001b[0m\u001b[1;33m\u001b[0m\u001b[1;33m\u001b[0m\u001b[0m\n",
      "\u001b[1;31mTemplateNotFound\u001b[0m: rst_extended.tpl"
     ]
    }
   ],
   "source": [
    "test_notebook('courses/sca101/SOLN_Lab 3_3 - DPA on Firmware Implementation of AES.ipynb', SCOPETYPE=testscope, PLATFORM=testplat, CRYPTO_TARGET=crypt,  VERSION=version)"
   ]
  },
  {
   "cell_type": "code",
   "execution_count": null,
   "metadata": {},
   "outputs": [],
   "source": [
    "#test_notebook('courses/fault101/SOLN_Fault 1_1 - Introduction to Clock Glitching.ipynb', SCOPETYPE=testscope, PLATFORM=testplat)\n",
    "#test_notebook('courses/fault101/SOLN_Fault 1_2 - Clock Glitching to Bypass Password.ipynb', SCOPETYPE=testscope, PLATFORM=testplat)\n",
    "#test_notebook('courses/fault101/SOLN_Fault 1_3 - Clock Glitching to Memory Dump.ipynb', SCOPETYPE=testscope, PLATFORM=testplat)\n",
    "#test_notebook('courses/fault101/SOLN_Fault 2_1 - Introduction to Voltage Glitching.ipynb', SCOPETYPE=testscope, PLATFORM=testplat)\n",
    "test_notebook('courses/fault101/SOLN_Fault 2_2 - Voltage Glitching to Bypass Password.ipynb', SCOPETYPE=testscope, PLATFORM=testplat)\n",
    "#test_notebook('courses/fault101/SOLN_Fault 2_3 - Voltage Glitching to Memory Dump.ipynb', SCOPETYPE=testscope, PLATFORM=testplat)"
   ]
  },
  {
   "cell_type": "code",
   "execution_count": null,
   "metadata": {},
   "outputs": [],
   "source": [
    "test_notebook('courses/fault101/SOLN_Fault 2_1B - Introduction to Voltage Glitching with CWNano.ipynb', SCOPETYPE=testscope, PLATFORM=testplat)"
   ]
  },
  {
   "cell_type": "code",
   "execution_count": null,
   "metadata": {},
   "outputs": [],
   "source": [
    "test_notebook('courses/fault101/SOLN_Fault 2_2B - Voltage Glitching with CWNano to Bypass Password.ipynb', SCOPETYPE=testscope, PLATFORM=testplat)"
   ]
  },
  {
   "cell_type": "code",
   "execution_count": null,
   "metadata": {},
   "outputs": [],
   "source": [
    "#test_notebook('courses/sca201/SOLN_Lab 1_1A - Resychronizing Traces with Sum of Absolute Difference.ipynb', SCOPETYPE=testscope, PLATFORM=testplat, VERSION=version)\n",
    "test_notebook('courses/sca201/SOLN_Lab 1_1B - Resychronizing Traces with Dynamic Time Warp.ipynb', SCOPETYPE=testscope, PLATFORM=testplat, VERSION=version)"
   ]
  },
  {
   "cell_type": "code",
   "execution_count": null,
   "metadata": {},
   "outputs": [],
   "source": []
  }
 ],
 "metadata": {
  "kernelspec": {
   "display_name": "Python 3",
   "language": "python",
   "name": "python3"
  },
  "language_info": {
   "codemirror_mode": {
    "name": "ipython",
    "version": 3
   },
   "file_extension": ".py",
   "mimetype": "text/x-python",
   "name": "python",
   "nbconvert_exporter": "python",
   "pygments_lexer": "ipython3",
   "version": "3.7.7"
  }
 },
 "nbformat": 4,
 "nbformat_minor": 2
}
